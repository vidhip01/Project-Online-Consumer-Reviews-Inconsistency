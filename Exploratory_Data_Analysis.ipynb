{
  "cells": [
    {
      "cell_type": "code",
      "execution_count": 1,
      "metadata": {
        "id": "IQaVauaPnXBA"
      },
      "outputs": [],
      "source": [
        "import numpy as np\n",
        "import pandas as pd\n",
        "import matplotlib.pyplot as plt"
      ]
    },
    {
      "cell_type": "code",
      "execution_count": 2,
      "metadata": {
        "id": "vywKdhZZyRoy"
      },
      "outputs": [],
      "source": [
        "import spacy\n",
        "nlp = spacy.load('en_core_web_sm')"
      ]
    },
    {
      "cell_type": "code",
      "execution_count": 3,
      "metadata": {
        "colab": {
          "base_uri": "https://localhost:8080/"
        },
        "id": "3wgye40-yqwz",
        "outputId": "a89ff6b3-a756-499d-dde8-f49c0ec57a52"
      },
      "outputs": [
        {
          "output_type": "stream",
          "name": "stdout",
          "text": [
            "Mounted at /content/gdrive\n"
          ]
        }
      ],
      "source": [
        "from google.colab import drive\n",
        "drive.mount('/content/gdrive')\n"
      ]
    },
    {
      "cell_type": "code",
      "execution_count": 4,
      "metadata": {
        "colab": {
          "base_uri": "https://localhost:8080/"
        },
        "id": "4fB2WPgqyrup",
        "outputId": "b12eb3e1-e58f-40c0-f4ed-9850a4115e2e"
      },
      "outputs": [
        {
          "output_type": "stream",
          "name": "stderr",
          "text": [
            "/usr/local/lib/python3.7/dist-packages/IPython/core/interactiveshell.py:2882: DtypeWarning: Columns (42,43,44,45,46,47,48,49,50,51,52,53,54,55,56,57,58,59,60,61,62,63,64,65,66,67,68,69,70,71,72,73,74,75,76,77,78,79,80,81,82,83,84,85,86,87,88,89,90,91,92,93,94,95,96,97,98,99,100,101,102,103,104,105,106,107,108,109,110,111,112,113,114,115,116,117,118,119,120,121,122,123,124,125,126,127,128,129,130,131,132,133) have mixed types.Specify dtype option on import or set low_memory=False.\n",
            "  exec(code_obj, self.user_global_ns, self.user_ns)\n"
          ]
        }
      ],
      "source": [
        "data =pd.read_csv(\"/content/gdrive/MyDrive/Google Colab/yelp_dataset_100K.csv\", on_bad_lines='skip')"
      ]
    },
    {
      "cell_type": "code",
      "execution_count": 5,
      "metadata": {
        "colab": {
          "base_uri": "https://localhost:8080/"
        },
        "id": "pT7k6xSryvQt",
        "outputId": "087094d7-5769-494c-bb6b-adf059bc3359"
      },
      "outputs": [
        {
          "output_type": "execute_result",
          "data": {
            "text/plain": [
              "(99999, 134)"
            ]
          },
          "metadata": {},
          "execution_count": 5
        }
      ],
      "source": [
        "data.shape"
      ]
    },
    {
      "cell_type": "code",
      "execution_count": 6,
      "metadata": {
        "colab": {
          "base_uri": "https://localhost:8080/",
          "height": 206
        },
        "id": "JfMQLSrOyxrO",
        "outputId": "9fd4a0d6-7976-4ea9-e3cf-081738cdf4e5"
      },
      "outputs": [
        {
          "output_type": "execute_result",
          "data": {
            "text/plain": [
              "                review_id                 user_id             business_id  \\\n",
              "0  KU_O5udG6zpxOg-VcAEodg  mh_-eMZ6K5RLWhZyISBhwA  XQfwVwDr-v0ZS3_CbbE5Xw   \n",
              "1  BiTunyQ73aT9WBnpR9DZGw  OyoGAe7OKpv6SyGZT5g77Q  7ATYjTIgM3jUlt4UM3IypQ   \n",
              "2  saUsX_uimxRlCVr67Z4Jig  8g_iMtfSiwikVnbP2etR0A  YjUWPpI6HXG530lwP-fb2A   \n",
              "3  AqPFMleE6RsU23_auESxiA  _7bHUi9Uuf5__HHc_Q8guQ  kxX2SOes4o-D3ZQBkiMRfA   \n",
              "4  Sx8TMOWLNuJBWer-0pcmoA  bcjbaE6dDog4jkNY91ncLQ  e4Vwtrqf-wpJfwesgvdgxQ   \n",
              "\n",
              "   stars  useful  funny  cool  \\\n",
              "0      3       0      0     0   \n",
              "1      5       1      0     1   \n",
              "2      3       0      0     0   \n",
              "3      5       1      0     1   \n",
              "4      4       1      0     1   \n",
              "\n",
              "                                                text             date  \n",
              "0  If you decide to eat here, just be aware it is...   7/7/2018 22:09  \n",
              "1  I've taken a lot of spin classes over the year...   1/3/2012 15:28  \n",
              "2  Family diner. Had the buffet. Eclectic assortm...   2/5/2014 20:30  \n",
              "3  Wow!  Yummy, different,  delicious.   Our favo...    1/4/2015 0:01  \n",
              "4  Cute interior and owner (?) gave us tour of up...  1/14/2017 20:54  "
            ],
            "text/html": [
              "\n",
              "  <div id=\"df-c00512d9-2bf6-491f-912f-74f0b4831196\">\n",
              "    <div class=\"colab-df-container\">\n",
              "      <div>\n",
              "<style scoped>\n",
              "    .dataframe tbody tr th:only-of-type {\n",
              "        vertical-align: middle;\n",
              "    }\n",
              "\n",
              "    .dataframe tbody tr th {\n",
              "        vertical-align: top;\n",
              "    }\n",
              "\n",
              "    .dataframe thead th {\n",
              "        text-align: right;\n",
              "    }\n",
              "</style>\n",
              "<table border=\"1\" class=\"dataframe\">\n",
              "  <thead>\n",
              "    <tr style=\"text-align: right;\">\n",
              "      <th></th>\n",
              "      <th>review_id</th>\n",
              "      <th>user_id</th>\n",
              "      <th>business_id</th>\n",
              "      <th>stars</th>\n",
              "      <th>useful</th>\n",
              "      <th>funny</th>\n",
              "      <th>cool</th>\n",
              "      <th>text</th>\n",
              "      <th>date</th>\n",
              "    </tr>\n",
              "  </thead>\n",
              "  <tbody>\n",
              "    <tr>\n",
              "      <th>0</th>\n",
              "      <td>KU_O5udG6zpxOg-VcAEodg</td>\n",
              "      <td>mh_-eMZ6K5RLWhZyISBhwA</td>\n",
              "      <td>XQfwVwDr-v0ZS3_CbbE5Xw</td>\n",
              "      <td>3</td>\n",
              "      <td>0</td>\n",
              "      <td>0</td>\n",
              "      <td>0</td>\n",
              "      <td>If you decide to eat here, just be aware it is...</td>\n",
              "      <td>7/7/2018 22:09</td>\n",
              "    </tr>\n",
              "    <tr>\n",
              "      <th>1</th>\n",
              "      <td>BiTunyQ73aT9WBnpR9DZGw</td>\n",
              "      <td>OyoGAe7OKpv6SyGZT5g77Q</td>\n",
              "      <td>7ATYjTIgM3jUlt4UM3IypQ</td>\n",
              "      <td>5</td>\n",
              "      <td>1</td>\n",
              "      <td>0</td>\n",
              "      <td>1</td>\n",
              "      <td>I've taken a lot of spin classes over the year...</td>\n",
              "      <td>1/3/2012 15:28</td>\n",
              "    </tr>\n",
              "    <tr>\n",
              "      <th>2</th>\n",
              "      <td>saUsX_uimxRlCVr67Z4Jig</td>\n",
              "      <td>8g_iMtfSiwikVnbP2etR0A</td>\n",
              "      <td>YjUWPpI6HXG530lwP-fb2A</td>\n",
              "      <td>3</td>\n",
              "      <td>0</td>\n",
              "      <td>0</td>\n",
              "      <td>0</td>\n",
              "      <td>Family diner. Had the buffet. Eclectic assortm...</td>\n",
              "      <td>2/5/2014 20:30</td>\n",
              "    </tr>\n",
              "    <tr>\n",
              "      <th>3</th>\n",
              "      <td>AqPFMleE6RsU23_auESxiA</td>\n",
              "      <td>_7bHUi9Uuf5__HHc_Q8guQ</td>\n",
              "      <td>kxX2SOes4o-D3ZQBkiMRfA</td>\n",
              "      <td>5</td>\n",
              "      <td>1</td>\n",
              "      <td>0</td>\n",
              "      <td>1</td>\n",
              "      <td>Wow!  Yummy, different,  delicious.   Our favo...</td>\n",
              "      <td>1/4/2015 0:01</td>\n",
              "    </tr>\n",
              "    <tr>\n",
              "      <th>4</th>\n",
              "      <td>Sx8TMOWLNuJBWer-0pcmoA</td>\n",
              "      <td>bcjbaE6dDog4jkNY91ncLQ</td>\n",
              "      <td>e4Vwtrqf-wpJfwesgvdgxQ</td>\n",
              "      <td>4</td>\n",
              "      <td>1</td>\n",
              "      <td>0</td>\n",
              "      <td>1</td>\n",
              "      <td>Cute interior and owner (?) gave us tour of up...</td>\n",
              "      <td>1/14/2017 20:54</td>\n",
              "    </tr>\n",
              "  </tbody>\n",
              "</table>\n",
              "</div>\n",
              "      <button class=\"colab-df-convert\" onclick=\"convertToInteractive('df-c00512d9-2bf6-491f-912f-74f0b4831196')\"\n",
              "              title=\"Convert this dataframe to an interactive table.\"\n",
              "              style=\"display:none;\">\n",
              "        \n",
              "  <svg xmlns=\"http://www.w3.org/2000/svg\" height=\"24px\"viewBox=\"0 0 24 24\"\n",
              "       width=\"24px\">\n",
              "    <path d=\"M0 0h24v24H0V0z\" fill=\"none\"/>\n",
              "    <path d=\"M18.56 5.44l.94 2.06.94-2.06 2.06-.94-2.06-.94-.94-2.06-.94 2.06-2.06.94zm-11 1L8.5 8.5l.94-2.06 2.06-.94-2.06-.94L8.5 2.5l-.94 2.06-2.06.94zm10 10l.94 2.06.94-2.06 2.06-.94-2.06-.94-.94-2.06-.94 2.06-2.06.94z\"/><path d=\"M17.41 7.96l-1.37-1.37c-.4-.4-.92-.59-1.43-.59-.52 0-1.04.2-1.43.59L10.3 9.45l-7.72 7.72c-.78.78-.78 2.05 0 2.83L4 21.41c.39.39.9.59 1.41.59.51 0 1.02-.2 1.41-.59l7.78-7.78 2.81-2.81c.8-.78.8-2.07 0-2.86zM5.41 20L4 18.59l7.72-7.72 1.47 1.35L5.41 20z\"/>\n",
              "  </svg>\n",
              "      </button>\n",
              "      \n",
              "  <style>\n",
              "    .colab-df-container {\n",
              "      display:flex;\n",
              "      flex-wrap:wrap;\n",
              "      gap: 12px;\n",
              "    }\n",
              "\n",
              "    .colab-df-convert {\n",
              "      background-color: #E8F0FE;\n",
              "      border: none;\n",
              "      border-radius: 50%;\n",
              "      cursor: pointer;\n",
              "      display: none;\n",
              "      fill: #1967D2;\n",
              "      height: 32px;\n",
              "      padding: 0 0 0 0;\n",
              "      width: 32px;\n",
              "    }\n",
              "\n",
              "    .colab-df-convert:hover {\n",
              "      background-color: #E2EBFA;\n",
              "      box-shadow: 0px 1px 2px rgba(60, 64, 67, 0.3), 0px 1px 3px 1px rgba(60, 64, 67, 0.15);\n",
              "      fill: #174EA6;\n",
              "    }\n",
              "\n",
              "    [theme=dark] .colab-df-convert {\n",
              "      background-color: #3B4455;\n",
              "      fill: #D2E3FC;\n",
              "    }\n",
              "\n",
              "    [theme=dark] .colab-df-convert:hover {\n",
              "      background-color: #434B5C;\n",
              "      box-shadow: 0px 1px 3px 1px rgba(0, 0, 0, 0.15);\n",
              "      filter: drop-shadow(0px 1px 2px rgba(0, 0, 0, 0.3));\n",
              "      fill: #FFFFFF;\n",
              "    }\n",
              "  </style>\n",
              "\n",
              "      <script>\n",
              "        const buttonEl =\n",
              "          document.querySelector('#df-c00512d9-2bf6-491f-912f-74f0b4831196 button.colab-df-convert');\n",
              "        buttonEl.style.display =\n",
              "          google.colab.kernel.accessAllowed ? 'block' : 'none';\n",
              "\n",
              "        async function convertToInteractive(key) {\n",
              "          const element = document.querySelector('#df-c00512d9-2bf6-491f-912f-74f0b4831196');\n",
              "          const dataTable =\n",
              "            await google.colab.kernel.invokeFunction('convertToInteractive',\n",
              "                                                     [key], {});\n",
              "          if (!dataTable) return;\n",
              "\n",
              "          const docLinkHtml = 'Like what you see? Visit the ' +\n",
              "            '<a target=\"_blank\" href=https://colab.research.google.com/notebooks/data_table.ipynb>data table notebook</a>'\n",
              "            + ' to learn more about interactive tables.';\n",
              "          element.innerHTML = '';\n",
              "          dataTable['output_type'] = 'display_data';\n",
              "          await google.colab.output.renderOutput(dataTable, element);\n",
              "          const docLink = document.createElement('div');\n",
              "          docLink.innerHTML = docLinkHtml;\n",
              "          element.appendChild(docLink);\n",
              "        }\n",
              "      </script>\n",
              "    </div>\n",
              "  </div>\n",
              "  "
            ]
          },
          "metadata": {},
          "execution_count": 6
        }
      ],
      "source": [
        "new_data = data.drop(data.columns[9:134], axis =1)\n",
        "new_data.head()"
      ]
    },
    {
      "cell_type": "code",
      "execution_count": 7,
      "metadata": {
        "colab": {
          "base_uri": "https://localhost:8080/"
        },
        "id": "KyocuBDmyzmm",
        "outputId": "3bbb7628-4970-4cd6-f594-43d51e80119b"
      },
      "outputs": [
        {
          "output_type": "execute_result",
          "data": {
            "text/plain": [
              "(99999, 9)"
            ]
          },
          "metadata": {},
          "execution_count": 7
        }
      ],
      "source": [
        "new_data.shape"
      ]
    },
    {
      "cell_type": "code",
      "execution_count": 8,
      "metadata": {
        "id": "VheE5ZyOzXRp"
      },
      "outputs": [],
      "source": [
        "import warnings\n",
        "warnings.filterwarnings('ignore')"
      ]
    },
    {
      "cell_type": "code",
      "execution_count": 9,
      "metadata": {
        "colab": {
          "base_uri": "https://localhost:8080/"
        },
        "id": "mu5__ud2zDTu",
        "outputId": "63f899d6-7ba3-4470-d602-59ea458a9ef3"
      },
      "outputs": [
        {
          "output_type": "stream",
          "name": "stdout",
          "text": [
            "Populating the interactive namespace from numpy and matplotlib\n"
          ]
        }
      ],
      "source": [
        "import numpy as np # linear algebra\n",
        "import pandas as pd # data processing, CSV file I/O (e.g. pd.read_csv)\n",
        "import seaborn as sns # attractive and informative statistical graphs\n",
        "import matplotlib.pyplot as plt # for interactive 2D graphics\n",
        "%pylab inline\n",
        "\n",
        "import nltk # natural language processing \n",
        "from nltk.corpus import stopwords\n",
        "from sklearn.feature_extraction.text import CountVectorizer\n",
        "from sklearn.model_selection import train_test_split\n",
        "from sklearn.naive_bayes import MultinomialNB\n",
        "from sklearn.neighbors import KNeighborsClassifier\n",
        "from sklearn.metrics import confusion_matrix, classification_report\n",
        "from sklearn.svm import SVC # Support Vector Machines\n",
        "from sklearn.ensemble import RandomForestClassifier # Random Forest\n",
        "from sklearn.linear_model import LogisticRegression #Logistic Regression\n",
        "from sklearn.metrics import accuracy_score"
      ]
    },
    {
      "cell_type": "code",
      "execution_count": 10,
      "metadata": {
        "colab": {
          "base_uri": "https://localhost:8080/"
        },
        "id": "sxexXO1T0D4V",
        "outputId": "fed19e7a-5ddf-4aad-f2cd-3d7ae9c1041d"
      },
      "outputs": [
        {
          "output_type": "execute_result",
          "data": {
            "text/plain": [
              "review_id      False\n",
              "user_id        False\n",
              "business_id    False\n",
              "stars          False\n",
              "useful         False\n",
              "funny          False\n",
              "cool           False\n",
              "text           False\n",
              "date            True\n",
              "dtype: bool"
            ]
          },
          "metadata": {},
          "execution_count": 10
        }
      ],
      "source": [
        "new_data.isnull().any()"
      ]
    },
    {
      "cell_type": "code",
      "execution_count": 11,
      "metadata": {
        "colab": {
          "base_uri": "https://localhost:8080/",
          "height": 300
        },
        "id": "uodF5Qzg0Fpl",
        "outputId": "dca73570-6191-4679-b2df-86e6467ea499"
      },
      "outputs": [
        {
          "output_type": "execute_result",
          "data": {
            "text/plain": [
              "              stars        useful         funny          cool\n",
              "count  99999.000000  99999.000000  99999.000000  99999.000000\n",
              "mean       3.842898      0.898989      0.257183      0.347033\n",
              "std        1.354731      2.205195      1.010217      1.066387\n",
              "min        1.000000      0.000000      0.000000      0.000000\n",
              "25%        3.000000      0.000000      0.000000      0.000000\n",
              "50%        4.000000      0.000000      0.000000      0.000000\n",
              "75%        5.000000      1.000000      0.000000      0.000000\n",
              "max        5.000000    320.000000     98.000000     49.000000"
            ],
            "text/html": [
              "\n",
              "  <div id=\"df-dc3b97eb-2e54-4c08-a418-a4130bb06184\">\n",
              "    <div class=\"colab-df-container\">\n",
              "      <div>\n",
              "<style scoped>\n",
              "    .dataframe tbody tr th:only-of-type {\n",
              "        vertical-align: middle;\n",
              "    }\n",
              "\n",
              "    .dataframe tbody tr th {\n",
              "        vertical-align: top;\n",
              "    }\n",
              "\n",
              "    .dataframe thead th {\n",
              "        text-align: right;\n",
              "    }\n",
              "</style>\n",
              "<table border=\"1\" class=\"dataframe\">\n",
              "  <thead>\n",
              "    <tr style=\"text-align: right;\">\n",
              "      <th></th>\n",
              "      <th>stars</th>\n",
              "      <th>useful</th>\n",
              "      <th>funny</th>\n",
              "      <th>cool</th>\n",
              "    </tr>\n",
              "  </thead>\n",
              "  <tbody>\n",
              "    <tr>\n",
              "      <th>count</th>\n",
              "      <td>99999.000000</td>\n",
              "      <td>99999.000000</td>\n",
              "      <td>99999.000000</td>\n",
              "      <td>99999.000000</td>\n",
              "    </tr>\n",
              "    <tr>\n",
              "      <th>mean</th>\n",
              "      <td>3.842898</td>\n",
              "      <td>0.898989</td>\n",
              "      <td>0.257183</td>\n",
              "      <td>0.347033</td>\n",
              "    </tr>\n",
              "    <tr>\n",
              "      <th>std</th>\n",
              "      <td>1.354731</td>\n",
              "      <td>2.205195</td>\n",
              "      <td>1.010217</td>\n",
              "      <td>1.066387</td>\n",
              "    </tr>\n",
              "    <tr>\n",
              "      <th>min</th>\n",
              "      <td>1.000000</td>\n",
              "      <td>0.000000</td>\n",
              "      <td>0.000000</td>\n",
              "      <td>0.000000</td>\n",
              "    </tr>\n",
              "    <tr>\n",
              "      <th>25%</th>\n",
              "      <td>3.000000</td>\n",
              "      <td>0.000000</td>\n",
              "      <td>0.000000</td>\n",
              "      <td>0.000000</td>\n",
              "    </tr>\n",
              "    <tr>\n",
              "      <th>50%</th>\n",
              "      <td>4.000000</td>\n",
              "      <td>0.000000</td>\n",
              "      <td>0.000000</td>\n",
              "      <td>0.000000</td>\n",
              "    </tr>\n",
              "    <tr>\n",
              "      <th>75%</th>\n",
              "      <td>5.000000</td>\n",
              "      <td>1.000000</td>\n",
              "      <td>0.000000</td>\n",
              "      <td>0.000000</td>\n",
              "    </tr>\n",
              "    <tr>\n",
              "      <th>max</th>\n",
              "      <td>5.000000</td>\n",
              "      <td>320.000000</td>\n",
              "      <td>98.000000</td>\n",
              "      <td>49.000000</td>\n",
              "    </tr>\n",
              "  </tbody>\n",
              "</table>\n",
              "</div>\n",
              "      <button class=\"colab-df-convert\" onclick=\"convertToInteractive('df-dc3b97eb-2e54-4c08-a418-a4130bb06184')\"\n",
              "              title=\"Convert this dataframe to an interactive table.\"\n",
              "              style=\"display:none;\">\n",
              "        \n",
              "  <svg xmlns=\"http://www.w3.org/2000/svg\" height=\"24px\"viewBox=\"0 0 24 24\"\n",
              "       width=\"24px\">\n",
              "    <path d=\"M0 0h24v24H0V0z\" fill=\"none\"/>\n",
              "    <path d=\"M18.56 5.44l.94 2.06.94-2.06 2.06-.94-2.06-.94-.94-2.06-.94 2.06-2.06.94zm-11 1L8.5 8.5l.94-2.06 2.06-.94-2.06-.94L8.5 2.5l-.94 2.06-2.06.94zm10 10l.94 2.06.94-2.06 2.06-.94-2.06-.94-.94-2.06-.94 2.06-2.06.94z\"/><path d=\"M17.41 7.96l-1.37-1.37c-.4-.4-.92-.59-1.43-.59-.52 0-1.04.2-1.43.59L10.3 9.45l-7.72 7.72c-.78.78-.78 2.05 0 2.83L4 21.41c.39.39.9.59 1.41.59.51 0 1.02-.2 1.41-.59l7.78-7.78 2.81-2.81c.8-.78.8-2.07 0-2.86zM5.41 20L4 18.59l7.72-7.72 1.47 1.35L5.41 20z\"/>\n",
              "  </svg>\n",
              "      </button>\n",
              "      \n",
              "  <style>\n",
              "    .colab-df-container {\n",
              "      display:flex;\n",
              "      flex-wrap:wrap;\n",
              "      gap: 12px;\n",
              "    }\n",
              "\n",
              "    .colab-df-convert {\n",
              "      background-color: #E8F0FE;\n",
              "      border: none;\n",
              "      border-radius: 50%;\n",
              "      cursor: pointer;\n",
              "      display: none;\n",
              "      fill: #1967D2;\n",
              "      height: 32px;\n",
              "      padding: 0 0 0 0;\n",
              "      width: 32px;\n",
              "    }\n",
              "\n",
              "    .colab-df-convert:hover {\n",
              "      background-color: #E2EBFA;\n",
              "      box-shadow: 0px 1px 2px rgba(60, 64, 67, 0.3), 0px 1px 3px 1px rgba(60, 64, 67, 0.15);\n",
              "      fill: #174EA6;\n",
              "    }\n",
              "\n",
              "    [theme=dark] .colab-df-convert {\n",
              "      background-color: #3B4455;\n",
              "      fill: #D2E3FC;\n",
              "    }\n",
              "\n",
              "    [theme=dark] .colab-df-convert:hover {\n",
              "      background-color: #434B5C;\n",
              "      box-shadow: 0px 1px 3px 1px rgba(0, 0, 0, 0.15);\n",
              "      filter: drop-shadow(0px 1px 2px rgba(0, 0, 0, 0.3));\n",
              "      fill: #FFFFFF;\n",
              "    }\n",
              "  </style>\n",
              "\n",
              "      <script>\n",
              "        const buttonEl =\n",
              "          document.querySelector('#df-dc3b97eb-2e54-4c08-a418-a4130bb06184 button.colab-df-convert');\n",
              "        buttonEl.style.display =\n",
              "          google.colab.kernel.accessAllowed ? 'block' : 'none';\n",
              "\n",
              "        async function convertToInteractive(key) {\n",
              "          const element = document.querySelector('#df-dc3b97eb-2e54-4c08-a418-a4130bb06184');\n",
              "          const dataTable =\n",
              "            await google.colab.kernel.invokeFunction('convertToInteractive',\n",
              "                                                     [key], {});\n",
              "          if (!dataTable) return;\n",
              "\n",
              "          const docLinkHtml = 'Like what you see? Visit the ' +\n",
              "            '<a target=\"_blank\" href=https://colab.research.google.com/notebooks/data_table.ipynb>data table notebook</a>'\n",
              "            + ' to learn more about interactive tables.';\n",
              "          element.innerHTML = '';\n",
              "          dataTable['output_type'] = 'display_data';\n",
              "          await google.colab.output.renderOutput(dataTable, element);\n",
              "          const docLink = document.createElement('div');\n",
              "          docLink.innerHTML = docLinkHtml;\n",
              "          element.appendChild(docLink);\n",
              "        }\n",
              "      </script>\n",
              "    </div>\n",
              "  </div>\n",
              "  "
            ]
          },
          "metadata": {},
          "execution_count": 11
        }
      ],
      "source": [
        "new_data.describe()"
      ]
    },
    {
      "cell_type": "code",
      "execution_count": 12,
      "metadata": {
        "colab": {
          "base_uri": "https://localhost:8080/",
          "height": 310
        },
        "id": "Jb6yjUJW0Hcb",
        "outputId": "11c1ec69-3501-4664-daf4-7a122842157c"
      },
      "outputs": [
        {
          "output_type": "execute_result",
          "data": {
            "text/plain": [
              "Text(0.5, 1.0, 'Count of each star rating')"
            ]
          },
          "metadata": {},
          "execution_count": 12
        },
        {
          "output_type": "display_data",
          "data": {
            "text/plain": [
              "<Figure size 432x288 with 1 Axes>"
            ],
            "image/png": "[encoded data removed]"
          },
          "metadata": {
            "needs_background": "light"
          }
        }
      ],
      "source": [
        "new_data['stars'].groupby(new_data['stars']).count().plot(kind=\"bar\", sort_columns=True)\n",
        "plt.title('Count of each star rating')"
      ]
    },
    {
      "cell_type": "code",
      "execution_count": 13,
      "metadata": {
        "colab": {
          "base_uri": "https://localhost:8080/",
          "height": 175
        },
        "id": "5NkbMYqj0JgZ",
        "outputId": "dd706be1-453e-44b1-9d37-f7883314ab82"
      },
      "outputs": [
        {
          "output_type": "execute_result",
          "data": {
            "text/plain": [
              "            useful     funny      cool  data len\n",
              "useful    1.000000  0.939518 -0.882676  0.563478\n",
              "funny     0.939518  1.000000 -0.882302  0.811911\n",
              "cool     -0.882676 -0.882302  1.000000 -0.606532\n",
              "data len  0.563478  0.811911 -0.606532  1.000000"
            ],
            "text/html": [
              "\n",
              "  <div id=\"df-88bc8ba7-3c08-4f7c-adcf-90b6607e34af\">\n",
              "    <div class=\"colab-df-container\">\n",
              "      <div>\n",
              "<style scoped>\n",
              "    .dataframe tbody tr th:only-of-type {\n",
              "        vertical-align: middle;\n",
              "    }\n",
              "\n",
              "    .dataframe tbody tr th {\n",
              "        vertical-align: top;\n",
              "    }\n",
              "\n",
              "    .dataframe thead th {\n",
              "        text-align: right;\n",
              "    }\n",
              "</style>\n",
              "<table border=\"1\" class=\"dataframe\">\n",
              "  <thead>\n",
              "    <tr style=\"text-align: right;\">\n",
              "      <th></th>\n",
              "      <th>useful</th>\n",
              "      <th>funny</th>\n",
              "      <th>cool</th>\n",
              "      <th>data len</th>\n",
              "    </tr>\n",
              "  </thead>\n",
              "  <tbody>\n",
              "    <tr>\n",
              "      <th>useful</th>\n",
              "      <td>1.000000</td>\n",
              "      <td>0.939518</td>\n",
              "      <td>-0.882676</td>\n",
              "      <td>0.563478</td>\n",
              "    </tr>\n",
              "    <tr>\n",
              "      <th>funny</th>\n",
              "      <td>0.939518</td>\n",
              "      <td>1.000000</td>\n",
              "      <td>-0.882302</td>\n",
              "      <td>0.811911</td>\n",
              "    </tr>\n",
              "    <tr>\n",
              "      <th>cool</th>\n",
              "      <td>-0.882676</td>\n",
              "      <td>-0.882302</td>\n",
              "      <td>1.000000</td>\n",
              "      <td>-0.606532</td>\n",
              "    </tr>\n",
              "    <tr>\n",
              "      <th>data len</th>\n",
              "      <td>0.563478</td>\n",
              "      <td>0.811911</td>\n",
              "      <td>-0.606532</td>\n",
              "      <td>1.000000</td>\n",
              "    </tr>\n",
              "  </tbody>\n",
              "</table>\n",
              "</div>\n",
              "      <button class=\"colab-df-convert\" onclick=\"convertToInteractive('df-88bc8ba7-3c08-4f7c-adcf-90b6607e34af')\"\n",
              "              title=\"Convert this dataframe to an interactive table.\"\n",
              "              style=\"display:none;\">\n",
              "        \n",
              "  <svg xmlns=\"http://www.w3.org/2000/svg\" height=\"24px\"viewBox=\"0 0 24 24\"\n",
              "       width=\"24px\">\n",
              "    <path d=\"M0 0h24v24H0V0z\" fill=\"none\"/>\n",
              "    <path d=\"M18.56 5.44l.94 2.06.94-2.06 2.06-.94-2.06-.94-.94-2.06-.94 2.06-2.06.94zm-11 1L8.5 8.5l.94-2.06 2.06-.94-2.06-.94L8.5 2.5l-.94 2.06-2.06.94zm10 10l.94 2.06.94-2.06 2.06-.94-2.06-.94-.94-2.06-.94 2.06-2.06.94z\"/><path d=\"M17.41 7.96l-1.37-1.37c-.4-.4-.92-.59-1.43-.59-.52 0-1.04.2-1.43.59L10.3 9.45l-7.72 7.72c-.78.78-.78 2.05 0 2.83L4 21.41c.39.39.9.59 1.41.59.51 0 1.02-.2 1.41-.59l7.78-7.78 2.81-2.81c.8-.78.8-2.07 0-2.86zM5.41 20L4 18.59l7.72-7.72 1.47 1.35L5.41 20z\"/>\n",
              "  </svg>\n",
              "      </button>\n",
              "      \n",
              "  <style>\n",
              "    .colab-df-container {\n",
              "      display:flex;\n",
              "      flex-wrap:wrap;\n",
              "      gap: 12px;\n",
              "    }\n",
              "\n",
              "    .colab-df-convert {\n",
              "      background-color: #E8F0FE;\n",
              "      border: none;\n",
              "      border-radius: 50%;\n",
              "      cursor: pointer;\n",
              "      display: none;\n",
              "      fill: #1967D2;\n",
              "      height: 32px;\n",
              "      padding: 0 0 0 0;\n",
              "      width: 32px;\n",
              "    }\n",
              "\n",
              "    .colab-df-convert:hover {\n",
              "      background-color: #E2EBFA;\n",
              "      box-shadow: 0px 1px 2px rgba(60, 64, 67, 0.3), 0px 1px 3px 1px rgba(60, 64, 67, 0.15);\n",
              "      fill: #174EA6;\n",
              "    }\n",
              "\n",
              "    [theme=dark] .colab-df-convert {\n",
              "      background-color: #3B4455;\n",
              "      fill: #D2E3FC;\n",
              "    }\n",
              "\n",
              "    [theme=dark] .colab-df-convert:hover {\n",
              "      background-color: #434B5C;\n",
              "      box-shadow: 0px 1px 3px 1px rgba(0, 0, 0, 0.15);\n",
              "      filter: drop-shadow(0px 1px 2px rgba(0, 0, 0, 0.3));\n",
              "      fill: #FFFFFF;\n",
              "    }\n",
              "  </style>\n",
              "\n",
              "      <script>\n",
              "        const buttonEl =\n",
              "          document.querySelector('#df-88bc8ba7-3c08-4f7c-adcf-90b6607e34af button.colab-df-convert');\n",
              "        buttonEl.style.display =\n",
              "          google.colab.kernel.accessAllowed ? 'block' : 'none';\n",
              "\n",
              "        async function convertToInteractive(key) {\n",
              "          const element = document.querySelector('#df-88bc8ba7-3c08-4f7c-adcf-90b6607e34af');\n",
              "          const dataTable =\n",
              "            await google.colab.kernel.invokeFunction('convertToInteractive',\n",
              "                                                     [key], {});\n",
              "          if (!dataTable) return;\n",
              "\n",
              "          const docLinkHtml = 'Like what you see? Visit the ' +\n",
              "            '<a target=\"_blank\" href=https://colab.research.google.com/notebooks/data_table.ipynb>data table notebook</a>'\n",
              "            + ' to learn more about interactive tables.';\n",
              "          element.innerHTML = '';\n",
              "          dataTable['output_type'] = 'display_data';\n",
              "          await google.colab.output.renderOutput(dataTable, element);\n",
              "          const docLink = document.createElement('div');\n",
              "          docLink.innerHTML = docLinkHtml;\n",
              "          element.appendChild(docLink);\n",
              "        }\n",
              "      </script>\n",
              "    </div>\n",
              "  </div>\n",
              "  "
            ]
          },
          "metadata": {},
          "execution_count": 13
        }
      ],
      "source": [
        "new_data['data len']= new_data['text'].apply(len)\n",
        "Analysis11= new_data.groupby('stars').mean()\n",
        "Analysis11.corr()"
      ]
    },
    {
      "cell_type": "code",
      "execution_count": 14,
      "metadata": {
        "colab": {
          "base_uri": "https://localhost:8080/",
          "height": 287
        },
        "id": "zCaXY4Da0LR6",
        "outputId": "490d5c1c-a8b7-4137-ad70-18cf64ef32a0"
      },
      "outputs": [
        {
          "output_type": "execute_result",
          "data": {
            "text/plain": [
              "<matplotlib.axes._subplots.AxesSubplot at 0x7fa2ea434050>"
            ]
          },
          "metadata": {},
          "execution_count": 14
        },
        {
          "output_type": "display_data",
          "data": {
            "text/plain": [
              "<Figure size 432x288 with 2 Axes>"
            ],
            "image/png": "[encoded data removed]"
          },
          "metadata": {
            "needs_background": "light"
          }
        }
      ],
      "source": [
        "sns.heatmap(data=Analysis11.corr(), annot=True) #finding correlation"
      ]
    },
    {
      "cell_type": "code",
      "execution_count": 15,
      "metadata": {
        "id": "p9vFSn8m0NR9"
      },
      "outputs": [],
      "source": [
        "import os\n",
        "import nltk\n",
        "import nltk.corpus"
      ]
    },
    {
      "cell_type": "code",
      "execution_count": 16,
      "metadata": {
        "colab": {
          "base_uri": "https://localhost:8080/",
          "height": 265
        },
        "id": "rmeLrTlo0O-E",
        "outputId": "96f22783-92b2-49d2-feb3-7c498d259d2d"
      },
      "outputs": [
        {
          "output_type": "display_data",
          "data": {
            "text/plain": [
              "<Figure size 432x288 with 1 Axes>"
            ],
            "image/png": "[encoded data removed]"
          },
          "metadata": {
            "needs_background": "light"
          }
        }
      ],
      "source": [
        "# Make a column and take the values, save to a variable named \"target\"\n",
        "new_data.target = new_data.stars\n",
        "\n",
        "plt.hist(new_data.target)\n",
        "plt.show()"
      ]
    },
    {
      "cell_type": "code",
      "execution_count": 17,
      "metadata": {
        "id": "hZPRIvb30QxM"
      },
      "outputs": [],
      "source": [
        "# Take the values of the column that contains review text data, save to a variable named \"documents\"\n",
        "documents = [t for i,t in enumerate(new_data.text)]"
      ]
    },
    {
      "cell_type": "code",
      "execution_count": 18,
      "metadata": {
        "colab": {
          "base_uri": "https://localhost:8080/"
        },
        "id": "qPmzxl_C0SmU",
        "outputId": "b17ed21c-bbdc-4b32-89d1-ef843cf638fa"
      },
      "outputs": [
        {
          "output_type": "execute_result",
          "data": {
            "text/plain": [
              "99999"
            ]
          },
          "metadata": {},
          "execution_count": 18
        }
      ],
      "source": [
        "# inspect your documents, e.g. check the size, take a peek at elements of the numpy array\n",
        "len(documents)"
      ]
    },
    {
      "cell_type": "code",
      "execution_count": 19,
      "metadata": {
        "id": "UdWxaYOr0T9b"
      },
      "outputs": [],
      "source": [
        "# first metric we're going to look at is the word count for each review\n",
        "new_data['Review_Word_Count'] = new_data['text'].apply(lambda x: len(str(x).split()))"
      ]
    },
    {
      "cell_type": "code",
      "execution_count": 20,
      "metadata": {
        "colab": {
          "base_uri": "https://localhost:8080/",
          "height": 313
        },
        "id": "smV37svS0-b8",
        "outputId": "485c800d-ad0f-4ad8-be46-d4f6699d2ee3"
      },
      "outputs": [
        {
          "output_type": "execute_result",
          "data": {
            "text/plain": [
              "Text(0, 0.5, 'Number of Words')"
            ]
          },
          "metadata": {},
          "execution_count": 20
        },
        {
          "output_type": "display_data",
          "data": {
            "text/plain": [
              "<Figure size 432x288 with 1 Axes>"
            ],
            "image/png": "[encoded data removed]"
          },
          "metadata": {
            "needs_background": "light"
          }
        }
      ],
      "source": [
        "new_data['Review_Word_Count'].plot()\n",
        "plt.title('Word Counts for Each Yelp Review')\n",
        "plt.xlabel('Review Number')\n",
        "plt.ylabel('Number of Words')"
      ]
    },
    {
      "cell_type": "code",
      "execution_count": 21,
      "metadata": {
        "id": "GEHO5JfP1Erc"
      },
      "outputs": [],
      "source": [
        "# character count\n",
        "new_data['Review_Char_Count'] = new_data['text'].apply(lambda x: len(str(x)))"
      ]
    },
    {
      "cell_type": "code",
      "execution_count": 22,
      "metadata": {
        "id": "PkD1COaM1dpV"
      },
      "outputs": [],
      "source": [
        "# Removing Stop Words\n",
        "from nltk.corpus import stopwords\n",
        "from nltk.tokenize import word_tokenize"
      ]
    },
    {
      "cell_type": "code",
      "execution_count": 23,
      "metadata": {
        "colab": {
          "base_uri": "https://localhost:8080/"
        },
        "id": "l8T86AMi1i29",
        "outputId": "f7a606ef-85bb-45f5-f987-eb5cd1f9bc2d"
      },
      "outputs": [
        {
          "output_type": "stream",
          "name": "stderr",
          "text": [
            "[nltk_data] Downloading package stopwords to /root/nltk_data...\n",
            "[nltk_data]   Unzipping corpora/stopwords.zip.\n"
          ]
        }
      ],
      "source": [
        "import nltk \n",
        "nltk.download('stopwords')\n",
        "stop_words = set(stopwords.words('english'))"
      ]
    },
    {
      "cell_type": "code",
      "execution_count": 24,
      "metadata": {
        "id": "uo3aBdbR1tQ7"
      },
      "outputs": [],
      "source": [
        "# add some more columns to make the analysis easier, one column will be for lowercase reviews and the other will be for lowercase and no punctuation\n",
        "new_data['Lowercase'] = new_data['text'].apply(lambda x: ' '.join(word.lower() for word in str(x).split()))"
      ]
    },
    {
      "cell_type": "code",
      "execution_count": 25,
      "metadata": {
        "id": "AtIgd8Lp2QsJ"
      },
      "outputs": [],
      "source": [
        "new_data['Cleaned'] = new_data['Lowercase'].str.replace('[^\\w\\s]', '')"
      ]
    },
    {
      "cell_type": "code",
      "execution_count": 26,
      "metadata": {
        "colab": {
          "base_uri": "https://localhost:8080/"
        },
        "id": "QYX6UlH62krB",
        "outputId": "fc96573a-f033-46cc-b96c-d24d19615ca1"
      },
      "outputs": [
        {
          "output_type": "stream",
          "name": "stderr",
          "text": [
            "[nltk_data] Downloading package punkt to /root/nltk_data...\n",
            "[nltk_data]   Unzipping tokenizers/punkt.zip.\n"
          ]
        },
        {
          "output_type": "execute_result",
          "data": {
            "text/plain": [
              "True"
            ]
          },
          "metadata": {},
          "execution_count": 26
        }
      ],
      "source": [
        "import nltk\n",
        "nltk.download('punkt')"
      ]
    },
    {
      "cell_type": "code",
      "execution_count": 27,
      "metadata": {
        "id": "r-83d8f-2XJx"
      },
      "outputs": [],
      "source": [
        "Reviews_noStopWords = []\n",
        "\n",
        "for i in range(len(new_data)):\n",
        "    \n",
        "    review = str(new_data['Cleaned'][i])\n",
        "    review = review\n",
        "    review = review.lower()\n",
        "    \n",
        "    stop_words = set(stopwords.words('english'))\n",
        "    word_tokens = word_tokenize(review)\n",
        "    filtered_sentence = [w for w in word_tokens if not w.lower() in stop_words]\n",
        "    filtered_sentence = []\n",
        " \n",
        "    for w in word_tokens:\n",
        "        if w not in stop_words:\n",
        "            filtered_sentence.append(w)\n",
        "    \n",
        "    Reviews_noStopWords.append(filtered_sentence)"
      ]
    },
    {
      "cell_type": "code",
      "execution_count": 28,
      "metadata": {
        "id": "ptI2JWsV2hqM"
      },
      "outputs": [],
      "source": [
        "new_data['No_Stop_Words:Tokens'] = Reviews_noStopWords"
      ]
    },
    {
      "cell_type": "code",
      "execution_count": 29,
      "metadata": {
        "id": "h25Uz-vX3asN"
      },
      "outputs": [],
      "source": [
        "new_data['No_Stop_Words:Sentence'] = Reviews_noStopWords\n",
        "for i in range(len(new_data)): \n",
        "    text_list = new_data['No_Stop_Words:Tokens'][i]\n",
        "    blank = ''\n",
        "    for word in text_list:\n",
        "        blank = blank+' '+word\n",
        "    new_data['No_Stop_Words:Sentence'][i] = blank"
      ]
    },
    {
      "cell_type": "code",
      "execution_count": 30,
      "metadata": {
        "id": "PBme8lfm3o6k"
      },
      "outputs": [],
      "source": [
        "# see how many words from the original review are stop words\n",
        "Stop_Word_Count = []\n",
        "for i in range(len(new_data)):\n",
        "    review = str(new_data['text'][i]).lower()\n",
        "    \n",
        "    count = 0\n",
        "    for word in review.split():\n",
        "        if word in stop_words:\n",
        "            count += 1\n",
        "    Stop_Word_Count.append(count)\n",
        "\n",
        "new_data['Stop_Word_Count'] = Stop_Word_Count"
      ]
    },
    {
      "cell_type": "code",
      "execution_count": 31,
      "metadata": {
        "colab": {
          "base_uri": "https://localhost:8080/",
          "height": 295
        },
        "id": "oOvtTqmd4KcH",
        "outputId": "cc92d7fd-7da3-4056-8616-4351d66e5c69"
      },
      "outputs": [
        {
          "output_type": "display_data",
          "data": {
            "text/plain": [
              "<Figure size 432x288 with 1 Axes>"
            ],
            "image/png": "[encoded data removed]"
          },
          "metadata": {
            "needs_background": "light"
          }
        }
      ],
      "source": [
        "# calculate the percentage of stop words instead and plot that\n",
        "full = new_data['Review_Word_Count']\n",
        "partial = new_data['Stop_Word_Count']\n",
        "\n",
        "new_data['Stop_Words_%'] = partial/full\n",
        "new_data['Stop_Words_%'].plot()\n",
        "plt.title('Percentage of Stop Words in Yelp Reviews')\n",
        "plt.xlabel('Review #')\n",
        "plt.ylabel('Stop Word Percentage');\n"
      ]
    },
    {
      "cell_type": "code",
      "execution_count": 32,
      "metadata": {
        "colab": {
          "base_uri": "https://localhost:8080/"
        },
        "id": "7BDCDXfF4kSL",
        "outputId": "418b2a1f-34b5-42b5-91ee-68c98ccac82b"
      },
      "outputs": [
        {
          "output_type": "execute_result",
          "data": {
            "text/plain": [
              "food       49684\n",
              "good       46180\n",
              "place      45505\n",
              "great      43984\n",
              "service    28784\n",
              "like       27477\n",
              "time       26995\n",
              "get        25987\n",
              "one        25759\n",
              "back       23987\n",
              "would      23191\n",
              "really     22359\n",
              "go         22333\n",
              "also       18486\n",
              "nice       16982\n",
              "best       16922\n",
              "got        16901\n",
              "us         16401\n",
              "staff      14907\n",
              "love       14867\n",
              "dtype: int64"
            ]
          },
          "metadata": {},
          "execution_count": 32
        }
      ],
      "source": [
        "#frequently repeated\n",
        "pd.Series(''.join(new_data['No_Stop_Words:Sentence']).split()).value_counts()[:20]\n"
      ]
    },
    {
      "cell_type": "code",
      "execution_count": 33,
      "metadata": {
        "id": "yChA0T3p5cu9"
      },
      "outputs": [],
      "source": [
        "# Stemming and Lemmatization\n",
        "import textblob\n",
        "from textblob import Word"
      ]
    },
    {
      "cell_type": "code",
      "execution_count": 34,
      "metadata": {
        "colab": {
          "base_uri": "https://localhost:8080/"
        },
        "id": "uVsHuHvE6U0w",
        "outputId": "1778c2b2-ecdd-472b-afcc-d66a73f041f6"
      },
      "outputs": [
        {
          "output_type": "stream",
          "name": "stderr",
          "text": [
            "[nltk_data] Downloading package wordnet to /root/nltk_data...\n",
            "[nltk_data]   Unzipping corpora/wordnet.zip.\n"
          ]
        },
        {
          "output_type": "execute_result",
          "data": {
            "text/plain": [
              "True"
            ]
          },
          "metadata": {},
          "execution_count": 34
        }
      ],
      "source": [
        "import nltk\n",
        "nltk.download('wordnet')"
      ]
    },
    {
      "cell_type": "code",
      "execution_count": 35,
      "metadata": {
        "colab": {
          "base_uri": "https://localhost:8080/"
        },
        "id": "Tx46QeX56bkW",
        "outputId": "3be4e271-4993-429e-d811-2b317d453ec5"
      },
      "outputs": [
        {
          "output_type": "stream",
          "name": "stderr",
          "text": [
            "[nltk_data] Downloading package omw-1.4 to /root/nltk_data...\n",
            "[nltk_data]   Unzipping corpora/omw-1.4.zip.\n"
          ]
        },
        {
          "output_type": "execute_result",
          "data": {
            "text/plain": [
              "True"
            ]
          },
          "metadata": {},
          "execution_count": 35
        }
      ],
      "source": [
        "import nltk\n",
        "nltk.download('omw-1.4')"
      ]
    },
    {
      "cell_type": "code",
      "execution_count": 36,
      "metadata": {
        "id": "WaLL70Mp6BsN"
      },
      "outputs": [],
      "source": [
        "new_data['Lemmatized'] = new_data['No_Stop_Words:Sentence'].apply(lambda x: ' '.join(Word(word).lemmatize() for word in x.split()))"
      ]
    },
    {
      "cell_type": "code",
      "execution_count": 37,
      "metadata": {
        "colab": {
          "base_uri": "https://localhost:8080/"
        },
        "id": "1272jtNl6Hsb",
        "outputId": "44c85585-9386-4843-ccbb-ed44669fe2ef"
      },
      "outputs": [
        {
          "output_type": "stream",
          "name": "stdout",
          "text": [
            "food good atmospheredecor like fishing lodge menu someplace outback bonefish went groupon 3 meal calamari appetizer ordered cooked perfectly def back\n",
            "\n",
            "food good atmospheredecor like fish lodg menu someplac outback bonefish went groupon 3 meal calamari appet order cook perfect def back\n"
          ]
        }
      ],
      "source": [
        "import nltk\n",
        "from nltk.stem.snowball import SnowballStemmer\n",
        "\n",
        "snowBallStemmer = SnowballStemmer(\"english\")\n",
        "\n",
        "sentence = new_data['Lemmatized'][40]\n",
        "wordList = nltk.word_tokenize(sentence)\n",
        "\n",
        "stemWords = [snowBallStemmer.stem(word) for word in wordList]\n",
        "\n",
        "stemmed = ' '.join(stemWords)\n",
        "print(sentence)\n",
        "print('')\n",
        "print(stemmed)"
      ]
    },
    {
      "cell_type": "code",
      "execution_count": 38,
      "metadata": {
        "id": "1l8i_jKK6796"
      },
      "outputs": [],
      "source": [
        "import re\n",
        "def word_extraction(sentence):   \n",
        "    words = re.sub(\"[^\\w]\", \" \",  sentence).split()    \n",
        "    cleaned_text = [w.lower() for w in words]    \n",
        "    return cleaned_text"
      ]
    },
    {
      "cell_type": "code",
      "execution_count": 39,
      "metadata": {
        "id": "g58ApdjK7Cp9"
      },
      "outputs": [],
      "source": [
        "stemmed_list = []\n",
        "stemmed_tokens_list = []\n",
        "for i in range(len(new_data)):\n",
        "    sentence = new_data['Lemmatized'][i]\n",
        "    wordList = nltk.word_tokenize(sentence)\n",
        "    stemWords = [snowBallStemmer.stem(word) for word in wordList]\n",
        "    \n",
        "    stemmed = ' '.join(stemWords)\n",
        "    stemmed_list.append(stemmed)"
      ]
    },
    {
      "cell_type": "code",
      "execution_count": 40,
      "metadata": {
        "id": "fbcBL4wm7KDf"
      },
      "outputs": [],
      "source": [
        "new_data['Stemmed:Sentence'] = stemmed_list"
      ]
    },
    {
      "cell_type": "code",
      "execution_count": 41,
      "metadata": {
        "id": "N1j4y3wB7kb4"
      },
      "outputs": [],
      "source": [
        "\n",
        "for i in range(len(new_data)):\n",
        "    stemmed = new_data['Stemmed:Sentence'][i]\n",
        "    tokens = word_extraction(stemmed)\n",
        "    stemmed_tokens_list.append(tokens)"
      ]
    },
    {
      "cell_type": "code",
      "execution_count": 42,
      "metadata": {
        "id": "7lg08x4H7q8f"
      },
      "outputs": [],
      "source": [
        "new_data['Stemmed:Tokens'] = stemmed_tokens_list"
      ]
    },
    {
      "cell_type": "code",
      "execution_count": 43,
      "metadata": {
        "colab": {
          "base_uri": "https://localhost:8080/"
        },
        "id": "YvQEv0rY7u-J",
        "outputId": "c4629e91-8952-43c9-cfd9-f9c3b02f826c"
      },
      "outputs": [
        {
          "output_type": "execute_result",
          "data": {
            "text/plain": [
              "['ive',\n",
              " 'taken',\n",
              " 'lot',\n",
              " 'spin',\n",
              " 'class',\n",
              " 'year',\n",
              " 'noth',\n",
              " 'compar',\n",
              " 'class',\n",
              " 'bodi',\n",
              " 'cycl',\n",
              " 'nice',\n",
              " 'clean',\n",
              " 'space',\n",
              " 'amaz',\n",
              " 'bike',\n",
              " 'welcom',\n",
              " 'motiv',\n",
              " 'instructor',\n",
              " 'everi',\n",
              " 'class',\n",
              " 'top',\n",
              " 'notch',\n",
              " 'work',\n",
              " 'outnnfor',\n",
              " 'anyon',\n",
              " 'struggl',\n",
              " 'fit',\n",
              " 'workout',\n",
              " 'onlin',\n",
              " 'schedul',\n",
              " 'system',\n",
              " 'make',\n",
              " 'easi',\n",
              " 'plan',\n",
              " 'ahead',\n",
              " 'there',\n",
              " 'need',\n",
              " 'line',\n",
              " 'way',\n",
              " 'advanc',\n",
              " 'like',\n",
              " 'mani',\n",
              " 'gym',\n",
              " 'make',\n",
              " 'donnther',\n",
              " 'way',\n",
              " 'write',\n",
              " 'review',\n",
              " 'without',\n",
              " 'give',\n",
              " 'russel',\n",
              " 'owner',\n",
              " 'bodi',\n",
              " 'cycl',\n",
              " 'shout',\n",
              " 'russel',\n",
              " 'passion',\n",
              " 'fit',\n",
              " 'cycl',\n",
              " 'evid',\n",
              " 'desir',\n",
              " 'client',\n",
              " 'succeed',\n",
              " 'alway',\n",
              " 'drop',\n",
              " 'class',\n",
              " 'check',\n",
              " 'inprovid',\n",
              " 'encourag',\n",
              " 'open',\n",
              " 'idea',\n",
              " 'recommend',\n",
              " 'anyon',\n",
              " 'russel',\n",
              " 'alway',\n",
              " 'wear',\n",
              " 'smile',\n",
              " 'face',\n",
              " 'even',\n",
              " 'he',\n",
              " 'kick',\n",
              " 'butt',\n",
              " 'class']"
            ]
          },
          "metadata": {},
          "execution_count": 43
        }
      ],
      "source": [
        "new_data['Stemmed:Tokens'][1]"
      ]
    },
    {
      "cell_type": "code",
      "execution_count": 44,
      "metadata": {
        "id": "Npo1xnJm7yN2"
      },
      "outputs": [],
      "source": [
        "new_data['Stemmed_Word_Count'] = new_data['Stemmed:Sentence'].apply(lambda x: len(str(x).split()))"
      ]
    },
    {
      "cell_type": "code",
      "execution_count": 45,
      "metadata": {
        "colab": {
          "base_uri": "https://localhost:8080/",
          "height": 368
        },
        "id": "ShAA3ln675Ly",
        "outputId": "341205e1-de3d-4653-81d8-53c1d417e504"
      },
      "outputs": [
        {
          "output_type": "execute_result",
          "data": {
            "text/plain": [
              "<matplotlib.legend.Legend at 0x7fa2b3815d10>"
            ]
          },
          "metadata": {},
          "execution_count": 45
        },
        {
          "output_type": "display_data",
          "data": {
            "text/plain": [
              "<Figure size 720x360 with 1 Axes>"
            ],
            "image/png": "[encoded data removed]"
          },
          "metadata": {
            "needs_background": "light"
          }
        }
      ],
      "source": [
        "plt.figure(figsize=(10,5))\n",
        "new_data[new_data['Review_Word_Count']< 2000]['Review_Word_Count'].plot()\n",
        "new_data[new_data['Stemmed_Word_Count']< 1000]['Stemmed_Word_Count'].plot()\n",
        "plt.title('Review Word Count, Stemmed with No Stop Words')\n",
        "plt.xlabel('Review #')\n",
        "plt.ylabel('Number of Words')\n",
        "plt.legend()"
      ]
    },
    {
      "cell_type": "code",
      "execution_count": 46,
      "metadata": {
        "id": "lqLAidry8FE8"
      },
      "outputs": [],
      "source": [
        "#positive opinions lexicons\n",
        "positivelexicons =pd.read_csv(\"/content/gdrive/MyDrive/Google Colab/positive_lexicons.txt\", on_bad_lines='skip')"
      ]
    },
    {
      "cell_type": "code",
      "execution_count": 47,
      "metadata": {
        "colab": {
          "base_uri": "https://localhost:8080/"
        },
        "id": "ylIqcP7C-Hh_",
        "outputId": "ed3a5290-d334-48a7-eaf8-5e4386ebc6f0"
      },
      "outputs": [
        {
          "output_type": "execute_result",
          "data": {
            "text/plain": [
              "(2005, 1)"
            ]
          },
          "metadata": {},
          "execution_count": 47
        }
      ],
      "source": [
        "positivelexicons.shape"
      ]
    },
    {
      "cell_type": "code",
      "execution_count": 48,
      "metadata": {
        "colab": {
          "base_uri": "https://localhost:8080/",
          "height": 206
        },
        "id": "X5m9vaGg-Wlz",
        "outputId": "8b47ffd5-7e27-499f-fb41-29df2dd7e1d2"
      },
      "outputs": [
        {
          "output_type": "execute_result",
          "data": {
            "text/plain": [
              "           a+\n",
              "0      abound\n",
              "1     abounds\n",
              "2   abundance\n",
              "3    abundant\n",
              "4  accessable"
            ],
            "text/html": [
              "\n",
              "  <div id=\"df-e7632e6b-3462-409d-b2a1-c57e8b905a2e\">\n",
              "    <div class=\"colab-df-container\">\n",
              "      <div>\n",
              "<style scoped>\n",
              "    .dataframe tbody tr th:only-of-type {\n",
              "        vertical-align: middle;\n",
              "    }\n",
              "\n",
              "    .dataframe tbody tr th {\n",
              "        vertical-align: top;\n",
              "    }\n",
              "\n",
              "    .dataframe thead th {\n",
              "        text-align: right;\n",
              "    }\n",
              "</style>\n",
              "<table border=\"1\" class=\"dataframe\">\n",
              "  <thead>\n",
              "    <tr style=\"text-align: right;\">\n",
              "      <th></th>\n",
              "      <th>a+</th>\n",
              "    </tr>\n",
              "  </thead>\n",
              "  <tbody>\n",
              "    <tr>\n",
              "      <th>0</th>\n",
              "      <td>abound</td>\n",
              "    </tr>\n",
              "    <tr>\n",
              "      <th>1</th>\n",
              "      <td>abounds</td>\n",
              "    </tr>\n",
              "    <tr>\n",
              "      <th>2</th>\n",
              "      <td>abundance</td>\n",
              "    </tr>\n",
              "    <tr>\n",
              "      <th>3</th>\n",
              "      <td>abundant</td>\n",
              "    </tr>\n",
              "    <tr>\n",
              "      <th>4</th>\n",
              "      <td>accessable</td>\n",
              "    </tr>\n",
              "  </tbody>\n",
              "</table>\n",
              "</div>\n",
              "      <button class=\"colab-df-convert\" onclick=\"convertToInteractive('df-e7632e6b-3462-409d-b2a1-c57e8b905a2e')\"\n",
              "              title=\"Convert this dataframe to an interactive table.\"\n",
              "              style=\"display:none;\">\n",
              "        \n",
              "  <svg xmlns=\"http://www.w3.org/2000/svg\" height=\"24px\"viewBox=\"0 0 24 24\"\n",
              "       width=\"24px\">\n",
              "    <path d=\"M0 0h24v24H0V0z\" fill=\"none\"/>\n",
              "    <path d=\"M18.56 5.44l.94 2.06.94-2.06 2.06-.94-2.06-.94-.94-2.06-.94 2.06-2.06.94zm-11 1L8.5 8.5l.94-2.06 2.06-.94-2.06-.94L8.5 2.5l-.94 2.06-2.06.94zm10 10l.94 2.06.94-2.06 2.06-.94-2.06-.94-.94-2.06-.94 2.06-2.06.94z\"/><path d=\"M17.41 7.96l-1.37-1.37c-.4-.4-.92-.59-1.43-.59-.52 0-1.04.2-1.43.59L10.3 9.45l-7.72 7.72c-.78.78-.78 2.05 0 2.83L4 21.41c.39.39.9.59 1.41.59.51 0 1.02-.2 1.41-.59l7.78-7.78 2.81-2.81c.8-.78.8-2.07 0-2.86zM5.41 20L4 18.59l7.72-7.72 1.47 1.35L5.41 20z\"/>\n",
              "  </svg>\n",
              "      </button>\n",
              "      \n",
              "  <style>\n",
              "    .colab-df-container {\n",
              "      display:flex;\n",
              "      flex-wrap:wrap;\n",
              "      gap: 12px;\n",
              "    }\n",
              "\n",
              "    .colab-df-convert {\n",
              "      background-color: #E8F0FE;\n",
              "      border: none;\n",
              "      border-radius: 50%;\n",
              "      cursor: pointer;\n",
              "      display: none;\n",
              "      fill: #1967D2;\n",
              "      height: 32px;\n",
              "      padding: 0 0 0 0;\n",
              "      width: 32px;\n",
              "    }\n",
              "\n",
              "    .colab-df-convert:hover {\n",
              "      background-color: #E2EBFA;\n",
              "      box-shadow: 0px 1px 2px rgba(60, 64, 67, 0.3), 0px 1px 3px 1px rgba(60, 64, 67, 0.15);\n",
              "      fill: #174EA6;\n",
              "    }\n",
              "\n",
              "    [theme=dark] .colab-df-convert {\n",
              "      background-color: #3B4455;\n",
              "      fill: #D2E3FC;\n",
              "    }\n",
              "\n",
              "    [theme=dark] .colab-df-convert:hover {\n",
              "      background-color: #434B5C;\n",
              "      box-shadow: 0px 1px 3px 1px rgba(0, 0, 0, 0.15);\n",
              "      filter: drop-shadow(0px 1px 2px rgba(0, 0, 0, 0.3));\n",
              "      fill: #FFFFFF;\n",
              "    }\n",
              "  </style>\n",
              "\n",
              "      <script>\n",
              "        const buttonEl =\n",
              "          document.querySelector('#df-e7632e6b-3462-409d-b2a1-c57e8b905a2e button.colab-df-convert');\n",
              "        buttonEl.style.display =\n",
              "          google.colab.kernel.accessAllowed ? 'block' : 'none';\n",
              "\n",
              "        async function convertToInteractive(key) {\n",
              "          const element = document.querySelector('#df-e7632e6b-3462-409d-b2a1-c57e8b905a2e');\n",
              "          const dataTable =\n",
              "            await google.colab.kernel.invokeFunction('convertToInteractive',\n",
              "                                                     [key], {});\n",
              "          if (!dataTable) return;\n",
              "\n",
              "          const docLinkHtml = 'Like what you see? Visit the ' +\n",
              "            '<a target=\"_blank\" href=https://colab.research.google.com/notebooks/data_table.ipynb>data table notebook</a>'\n",
              "            + ' to learn more about interactive tables.';\n",
              "          element.innerHTML = '';\n",
              "          dataTable['output_type'] = 'display_data';\n",
              "          await google.colab.output.renderOutput(dataTable, element);\n",
              "          const docLink = document.createElement('div');\n",
              "          docLink.innerHTML = docLinkHtml;\n",
              "          element.appendChild(docLink);\n",
              "        }\n",
              "      </script>\n",
              "    </div>\n",
              "  </div>\n",
              "  "
            ]
          },
          "metadata": {},
          "execution_count": 48
        }
      ],
      "source": [
        "positivelexicons.head()"
      ]
    },
    {
      "cell_type": "code",
      "execution_count": 50,
      "metadata": {
        "id": "944wdjVY-c0T"
      },
      "outputs": [],
      "source": [
        "file = open(\"positive_lexicon.txt\", \"r\")\n",
        "content = file.read()\n",
        "pos_lex = content.splitlines()\n",
        "pos_lex_stem = [snowBallStemmer.stem(word) for word in pos_lex]"
      ]
    },
    {
      "cell_type": "code",
      "execution_count": 51,
      "metadata": {
        "id": "btpQQh4t_8ya"
      },
      "outputs": [],
      "source": [
        "good_count = []\n",
        "for i in range(len(new_data)):\n",
        "    count = 0\n",
        "    tokens = new_data['Stemmed:Tokens'][i]\n",
        "    for word in tokens:\n",
        "        if word in pos_lex_stem:\n",
        "            count += 1\n",
        "    good_count.append(count)"
      ]
    },
    {
      "cell_type": "code",
      "execution_count": 52,
      "metadata": {
        "id": "prQ15OWpA2mB"
      },
      "outputs": [],
      "source": [
        "new_data['Positive_Word_Count'] = good_count"
      ]
    },
    {
      "cell_type": "code",
      "execution_count": 53,
      "metadata": {
        "id": "M7HspfDOBpV9"
      },
      "outputs": [],
      "source": [
        "new_data['Positive_Words_%'] = new_data['Positive_Word_Count']/(new_data['Review_Word_Count']-new_data['Stop_Word_Count'])"
      ]
    },
    {
      "cell_type": "code",
      "execution_count": 54,
      "metadata": {
        "colab": {
          "base_uri": "https://localhost:8080/",
          "height": 313
        },
        "id": "GoGCb9jBB08o",
        "outputId": "977047ff-1a24-4fd4-dd64-2d06af2e6ba6"
      },
      "outputs": [
        {
          "output_type": "execute_result",
          "data": {
            "text/plain": [
              "Text(0, 0.5, 'Percentage')"
            ]
          },
          "metadata": {},
          "execution_count": 54
        },
        {
          "output_type": "display_data",
          "data": {
            "text/plain": [
              "<Figure size 432x288 with 1 Axes>"
            ],
            "image/png": "[encoded data removed]"
          },
          "metadata": {
            "needs_background": "light"
          }
        }
      ],
      "source": [
        "new_data['Positive_Words_%'].plot()\n",
        "plt.title('Percentage of Positive Words in Yelp Reviews')\n",
        "plt.xlabel('Review #')\n",
        "plt.ylabel('Percentage')"
      ]
    },
    {
      "cell_type": "code",
      "execution_count": 55,
      "metadata": {
        "colab": {
          "base_uri": "https://localhost:8080/",
          "height": 368
        },
        "id": "F6XuPKhEDTUm",
        "outputId": "b85603aa-272f-4ca6-de36-0c58e6f7fe7b"
      },
      "outputs": [
        {
          "output_type": "execute_result",
          "data": {
            "text/plain": [
              "<matplotlib.legend.Legend at 0x7fa2b35feb90>"
            ]
          },
          "metadata": {},
          "execution_count": 55
        },
        {
          "output_type": "display_data",
          "data": {
            "text/plain": [
              "<Figure size 720x360 with 1 Axes>"
            ],
            "image/png": "[encoded data removed]"
          },
          "metadata": {
            "needs_background": "light"
          }
        }
      ],
      "source": [
        "plt.figure(figsize=(10,5))\n",
        "new_data[new_data['Review_Word_Count']< 2000]['Review_Word_Count'].plot()\n",
        "new_data[new_data['Positive_Word_Count']< 600]['Positive_Word_Count'].plot()\n",
        "plt.title('Positive Words in Yelp Reviews')\n",
        "plt.xlabel('Review #')\n",
        "plt.ylabel('Number of Words')\n",
        "plt.legend()"
      ]
    },
    {
      "cell_type": "code",
      "source": [
        "file = open(\"negative_lexicon.txt\", \"r\")\n",
        "content = file.read()\n",
        "neg_lex = content.splitlines()\n",
        "neg_lex_stem = [snowBallStemmer.stem(word) for word in neg_lex]"
      ],
      "metadata": {
        "id": "MTdDec3eUlT2"
      },
      "execution_count": 57,
      "outputs": []
    },
    {
      "cell_type": "code",
      "source": [
        "bad_count = []\n",
        "for i in range(len(new_data)):\n",
        "    count = 0\n",
        "    tokens = new_data['Stemmed:Tokens'][i]\n",
        "    for word in tokens:\n",
        "        if word in neg_lex_stem:\n",
        "            count += 1\n",
        "    bad_count.append(count)"
      ],
      "metadata": {
        "id": "vgvpvPu5Uo4k"
      },
      "execution_count": 58,
      "outputs": []
    },
    {
      "cell_type": "code",
      "source": [
        "new_data['Negative_Word_Count'] = bad_count"
      ],
      "metadata": {
        "id": "-bUMxzZPUuqE"
      },
      "execution_count": 59,
      "outputs": []
    },
    {
      "cell_type": "code",
      "source": [
        "new_data['Negative_Words_%'] = new_data['Negative_Word_Count']/(new_data['Review_Word_Count']-new_data['Stop_Word_Count'])"
      ],
      "metadata": {
        "id": "Bbd177HHYcCb"
      },
      "execution_count": 60,
      "outputs": []
    },
    {
      "cell_type": "code",
      "source": [
        "new_data['Negative_Words_%'].plot()\n",
        "plt.title('Percentage of Negative Words in Yelp Reviews')\n",
        "plt.xlabel('Review #')\n",
        "plt.ylabel('Percentage')"
      ],
      "metadata": {
        "colab": {
          "base_uri": "https://localhost:8080/",
          "height": 313
        },
        "id": "SNROgRuUYcYy",
        "outputId": "32e92f02-91cb-45ca-c65d-8772eebe01e2"
      },
      "execution_count": 61,
      "outputs": [
        {
          "output_type": "execute_result",
          "data": {
            "text/plain": [
              "Text(0, 0.5, 'Percentage')"
            ]
          },
          "metadata": {},
          "execution_count": 61
        },
        {
          "output_type": "display_data",
          "data": {
            "text/plain": [
              "<Figure size 432x288 with 1 Axes>"
            ],
            "image/png": "[encoded data removed]"
          },
          "metadata": {
            "needs_background": "light"
          }
        }
      ]
    },
    {
      "cell_type": "code",
      "source": [
        "plt.figure(figsize=(10,5))\n",
        "new_data[new_data['Review_Word_Count']< 2000]['Review_Word_Count'].plot()\n",
        "new_data[new_data['Negative_Word_Count']< 600]['Negative_Word_Count'].plot()\n",
        "plt.title('Negative Words in Yelp Reviews')\n",
        "plt.xlabel('Review #')\n",
        "plt.ylabel('Number of Words')\n",
        "plt.legend()"
      ],
      "metadata": {
        "colab": {
          "base_uri": "https://localhost:8080/",
          "height": 368
        },
        "id": "FW6uB00KYcwr",
        "outputId": "d147a125-0cf7-44ef-a8ab-456059422e1f"
      },
      "execution_count": 62,
      "outputs": [
        {
          "output_type": "execute_result",
          "data": {
            "text/plain": [
              "<matplotlib.legend.Legend at 0x7fa2b3597a90>"
            ]
          },
          "metadata": {},
          "execution_count": 62
        },
        {
          "output_type": "display_data",
          "data": {
            "text/plain": [
              "<Figure size 720x360 with 1 Axes>"
            ],
            "image/png": "[encoded data removed]"
          },
          "metadata": {
            "needs_background": "light"
          }
        }
      ]
    },
    {
      "cell_type": "code",
      "execution_count": 63,
      "metadata": {
        "id": "jKi7O4HThRij"
      },
      "outputs": [],
      "source": [
        "bad_review = list(new_data[new_data['stars'] < 2.5]['user_id'])[0]\n",
        "bad_index = list(new_data['user_id'].unique()).index(bad_review)"
      ]
    },
    {
      "cell_type": "code",
      "source": [
        "# Polarity and subjectivity\n",
        "from textblob import TextBlob"
      ],
      "metadata": {
        "id": "AgIb-_vkUVcq"
      },
      "execution_count": 64,
      "outputs": []
    },
    {
      "cell_type": "code",
      "source": [
        "new_data['Polarity'] = new_data['Lemmatized'].apply(lambda x: TextBlob(x).sentiment[0])\n",
        "new_data['Subjectivity'] = new_data['Lemmatized'].apply(lambda x: TextBlob(x).sentiment[1])"
      ],
      "metadata": {
        "id": "pp0zQ0clhuaV"
      },
      "execution_count": 65,
      "outputs": []
    },
    {
      "cell_type": "code",
      "source": [
        "pol = new_data[new_data['user_id'] == bad_review]['Polarity'].mean()\n",
        "pol"
      ],
      "metadata": {
        "colab": {
          "base_uri": "https://localhost:8080/"
        },
        "id": "1QS1XaJFiAAR",
        "outputId": "1384443b-c073-4706-f692-0260bc741e9f"
      },
      "execution_count": 66,
      "outputs": [
        {
          "output_type": "execute_result",
          "data": {
            "text/plain": [
              "0.2111111111111111"
            ]
          },
          "metadata": {},
          "execution_count": 66
        }
      ]
    },
    {
      "cell_type": "code",
      "source": [
        "# Polarity and Positive Word Percentage\n",
        "#Polarity < 0: Meaning these reviews should be negative and, therofore have a lower positive words percentage\n",
        "#Polarity > 0: Where the percentage of positive words SHOULD go up\n",
        "# Polarity = 0: Where the sentiment should be neutral, so the percentage should be in between the other\n",
        "\n",
        "df1 = new_data[new_data['Polarity'] < 0]\n",
        "df2 = new_data[new_data['Polarity'] > 0]\n",
        "df3 = new_data[new_data['Polarity'] == 0]\n",
        "\n",
        "df1 = df1.sort_values(by='Polarity')\n",
        "df2 = df2.sort_values(by='Polarity')\n",
        "df3 = df3.sort_values(by='Polarity')\n",
        "\n",
        "df1 = df1.reset_index()\n",
        "df2 = df2.reset_index()\n",
        "df3 = df3.reset_index()\n",
        "\n",
        "df3.index=np.arange(len(df1),(len(df1)+len(df3)))\n",
        "df2.index=np.arange((len(df3)+len(df1)),(len(df1)+len(df3)+len(df2)))"
      ],
      "metadata": {
        "id": "s25Hun3jigDq"
      },
      "execution_count": 67,
      "outputs": []
    },
    {
      "cell_type": "code",
      "source": [
        "df4 = new_data\n",
        "df4 = df4.sort_values(by='Polarity')"
      ],
      "metadata": {
        "id": "etgv_ICtjwI9"
      },
      "execution_count": 68,
      "outputs": []
    },
    {
      "cell_type": "code",
      "source": [
        "import matplotlib.transforms as transforms\n",
        "\n",
        "\n",
        "# set up figure\n",
        "fig, ax = plt.subplots(figsize=(16,8))\n",
        "\n",
        "x = new_data.index\n",
        "\n",
        "# set x axis for partial plots\n",
        "x1 = df1.index\n",
        "y1 = df1['Positive_Words_%']\n",
        "x2 = df2.index\n",
        "y2 = df2['Positive_Words_%']\n",
        "x3 = df3.index\n",
        "y3 = df3['Positive_Words_%']\n",
        "\n",
        "# calculate average for each partial\n",
        "av1 = df1['Positive_Words_%'].mean()\n",
        "av2 = df2['Positive_Words_%'].mean()\n",
        "av3 = df3['Positive_Words_%'].mean()\n",
        "\n",
        "# plot word percentage\n",
        "plt.plot(x1,y1,label='Positive Word Percentage (Polarity < 0)')\n",
        "plt.plot(x2,y2,label='Positive Word Percentage (Polarity > 0)')\n",
        "plt.plot(x3,y3,label='Positive Word Percentage (Polarity = 0)')\n",
        "\n",
        "# plot area to define polarity zones\n",
        "plt.axvspan(0,len(df1), facecolor='blue', alpha=0.2,label='Polarity < 0')\n",
        "plt.axvspan(len(df1),(len(df1)+len(df3)), facecolor='green',alpha=0.2,label='Polarity > 0')\n",
        "plt.axvspan((len(df1)+len(df3)),(len(df1)+len(df3)+len(df2)), facecolor='orange',alpha=0.2, label='Polarity = 0')\n",
        "\n",
        "# plot average lines\n",
        "plt.axhline(y=av1,linewidth=3, color='b',label='Average (Polarity < 0): '+str(av1)[2:4]+'%')\n",
        "plt.axhline(y=av2,linewidth=3, color='r',label='Average (Polarity > 0): '+str(av2)[2:4]+'%')\n",
        "plt.axhline(y=av3,linewidth=3, color='g',label='Average (Polarity = 0): '+str(av3)[2:4]+'%')\n",
        "\n",
        "# label x axis as polarity\n",
        "labels = ['-1','0','0.1','0.2','0.3','0.4','0.5','1']\n",
        "ticks = [0,len(df1),2655,4539,6869,8704,9924,11065]\n",
        "\n",
        "ax.set_xticks(ticks)\n",
        "ax.set_xticklabels(labels)\n",
        "\n",
        "ax.legend(bbox_to_anchor=(1, 1))\n",
        "plt.title('Percentage of Positive Words Sorted by Polarity')\n",
        "plt.xlabel('Polarity')\n",
        "plt.ylabel('Positive Word Percentage')"
      ],
      "metadata": {
        "colab": {
          "base_uri": "https://localhost:8080/",
          "height": 531
        },
        "id": "47Tt01TZj0y6",
        "outputId": "ea82fa10-37a8-4090-fd37-0f476474e70e"
      },
      "execution_count": 69,
      "outputs": [
        {
          "output_type": "execute_result",
          "data": {
            "text/plain": [
              "Text(0, 0.5, 'Positive Word Percentage')"
            ]
          },
          "metadata": {},
          "execution_count": 69
        },
        {
          "output_type": "display_data",
          "data": {
            "text/plain": [
              "<Figure size 1152x576 with 1 Axes>"
            ],
            "image/png": "[encoded data removed]"
          },
          "metadata": {
            "needs_background": "light"
          }
        }
      ]
    },
    {
      "cell_type": "code",
      "source": [
        "new_data.columns"
      ],
      "metadata": {
        "colab": {
          "base_uri": "https://localhost:8080/"
        },
        "id": "VCloPyR2j8ER",
        "outputId": "46f1a579-22f2-42e2-c3a9-ebae1cafd0f5"
      },
      "execution_count": 70,
      "outputs": [
        {
          "output_type": "execute_result",
          "data": {
            "text/plain": [
              "Index(['review_id', 'user_id', 'business_id', 'stars', 'useful', 'funny',\n",
              "       'cool', 'text', 'date', 'data len', 'Review_Word_Count',\n",
              "       'Review_Char_Count', 'Lowercase', 'Cleaned', 'No_Stop_Words:Tokens',\n",
              "       'No_Stop_Words:Sentence', 'Stop_Word_Count', 'Stop_Words_%',\n",
              "       'Lemmatized', 'Stemmed:Sentence', 'Stemmed:Tokens',\n",
              "       'Stemmed_Word_Count', 'Positive_Word_Count', 'Positive_Words_%',\n",
              "       'Negative_Word_Count', 'Negative_Words_%', 'Polarity', 'Subjectivity'],\n",
              "      dtype='object')"
            ]
          },
          "metadata": {},
          "execution_count": 70
        }
      ]
    },
    {
      "cell_type": "code",
      "source": [
        "new_data_analyzed = new_data[['review_id', 'user_id', 'business_id', 'stars', 'useful', 'funny',\n",
        "       'cool', 'text', 'date', 'data len', 'Review_Word_Count',\n",
        "       'Review_Char_Count', 'Lowercase', 'Cleaned', 'No_Stop_Words:Tokens',\n",
        "       'No_Stop_Words:Sentence', 'Stop_Word_Count', 'Stop_Words_%',\n",
        "       'Lemmatized', 'Stemmed:Sentence', 'Stemmed:Tokens',\n",
        "       'Stemmed_Word_Count', 'Positive_Word_Count', 'Positive_Words_%', 'Negative_Word_Count', 'Negative_Words_%', 'Polarity', 'Subjectivity']]"
      ],
      "metadata": {
        "id": "P91tZBR5neMW"
      },
      "execution_count": 71,
      "outputs": []
    },
    {
      "cell_type": "code",
      "source": [
        "new_data_analyzed.to_csv(r'new_data_analyzed.csv',index=False)"
      ],
      "metadata": {
        "id": "CotmV_kRnj6T"
      },
      "execution_count": 72,
      "outputs": []
    },
    {
      "cell_type": "code",
      "source": [
        "new_data_analyzed.head()"
      ],
      "metadata": {
        "id": "58hCfQNFnsbr",
        "outputId": "bbe14d32-dae1-45cb-aa55-80d6d0914513",
        "colab": {
          "base_uri": "https://localhost:8080/",
          "height": 768
        }
      },
      "execution_count": 73,
      "outputs": [
        {
          "output_type": "execute_result",
          "data": {
            "text/plain": [
              "                review_id                 user_id             business_id  \\\n",
              "0  KU_O5udG6zpxOg-VcAEodg  mh_-eMZ6K5RLWhZyISBhwA  XQfwVwDr-v0ZS3_CbbE5Xw   \n",
              "1  BiTunyQ73aT9WBnpR9DZGw  OyoGAe7OKpv6SyGZT5g77Q  7ATYjTIgM3jUlt4UM3IypQ   \n",
              "2  saUsX_uimxRlCVr67Z4Jig  8g_iMtfSiwikVnbP2etR0A  YjUWPpI6HXG530lwP-fb2A   \n",
              "3  AqPFMleE6RsU23_auESxiA  _7bHUi9Uuf5__HHc_Q8guQ  kxX2SOes4o-D3ZQBkiMRfA   \n",
              "4  Sx8TMOWLNuJBWer-0pcmoA  bcjbaE6dDog4jkNY91ncLQ  e4Vwtrqf-wpJfwesgvdgxQ   \n",
              "\n",
              "   stars  useful  funny  cool  \\\n",
              "0      3       0      0     0   \n",
              "1      5       1      0     1   \n",
              "2      3       0      0     0   \n",
              "3      5       1      0     1   \n",
              "4      4       1      0     1   \n",
              "\n",
              "                                                text             date  \\\n",
              "0  If you decide to eat here, just be aware it is...   7/7/2018 22:09   \n",
              "1  I've taken a lot of spin classes over the year...   1/3/2012 15:28   \n",
              "2  Family diner. Had the buffet. Eclectic assortm...   2/5/2014 20:30   \n",
              "3  Wow!  Yummy, different,  delicious.   Our favo...    1/4/2015 0:01   \n",
              "4  Cute interior and owner (?) gave us tour of up...  1/14/2017 20:54   \n",
              "\n",
              "   data len  ...                                         Lemmatized  \\\n",
              "0       515  ...  decide eat aware going take 2 hour beginning e...   \n",
              "1       834  ...  ive taken lot spin class year nothing compare ...   \n",
              "2       339  ...  family diner buffet eclectic assortment large ...   \n",
              "3       243  ...  wow yummy different delicious favorite lamb cu...   \n",
              "4       535  ...  cute interior owner gave u tour upcoming patio...   \n",
              "\n",
              "                                    Stemmed:Sentence  \\\n",
              "0  decid eat awar go take 2 hour begin end tri mu...   \n",
              "1  ive taken lot spin class year noth compar clas...   \n",
              "2  famili diner buffet eclect assort larg chicken...   \n",
              "3  wow yummi differ delici favorit lamb curri kor...   \n",
              "4  cute interior owner gave u tour upcom patioroo...   \n",
              "\n",
              "                                      Stemmed:Tokens Stemmed_Word_Count  \\\n",
              "0  [decid, eat, awar, go, take, 2, hour, begin, e...                 45   \n",
              "1  [ive, taken, lot, spin, class, year, noth, com...                 84   \n",
              "2  [famili, diner, buffet, eclect, assort, larg, ...                 39   \n",
              "3  [wow, yummi, differ, delici, favorit, lamb, cu...                 24   \n",
              "4  [cute, interior, owner, gave, u, tour, upcom, ...                 63   \n",
              "\n",
              "  Positive_Word_Count Positive_Words_%  Negative_Word_Count  Negative_Words_%  \\\n",
              "0                   8         0.166667                    3          0.062500   \n",
              "1                  18         0.206897                    1          0.011494   \n",
              "2                   6         0.150000                    2          0.050000   \n",
              "3                   5         0.208333                    2          0.083333   \n",
              "4                  12         0.190476                    1          0.015873   \n",
              "\n",
              "   Polarity Subjectivity  \n",
              "0  0.198485     0.412121  \n",
              "1  0.395455     0.571212  \n",
              "2  0.139935     0.522294  \n",
              "3  0.315152     0.733838  \n",
              "4  0.416234     0.490260  \n",
              "\n",
              "[5 rows x 28 columns]"
            ],
            "text/html": [
              "\n",
              "  <div id=\"df-fd569cd1-6ac1-4fa3-8e40-9cc1ce6f9fc4\">\n",
              "    <div class=\"colab-df-container\">\n",
              "      <div>\n",
              "<style scoped>\n",
              "    .dataframe tbody tr th:only-of-type {\n",
              "        vertical-align: middle;\n",
              "    }\n",
              "\n",
              "    .dataframe tbody tr th {\n",
              "        vertical-align: top;\n",
              "    }\n",
              "\n",
              "    .dataframe thead th {\n",
              "        text-align: right;\n",
              "    }\n",
              "</style>\n",
              "<table border=\"1\" class=\"dataframe\">\n",
              "  <thead>\n",
              "    <tr style=\"text-align: right;\">\n",
              "      <th></th>\n",
              "      <th>review_id</th>\n",
              "      <th>user_id</th>\n",
              "      <th>business_id</th>\n",
              "      <th>stars</th>\n",
              "      <th>useful</th>\n",
              "      <th>funny</th>\n",
              "      <th>cool</th>\n",
              "      <th>text</th>\n",
              "      <th>date</th>\n",
              "      <th>data len</th>\n",
              "      <th>...</th>\n",
              "      <th>Lemmatized</th>\n",
              "      <th>Stemmed:Sentence</th>\n",
              "      <th>Stemmed:Tokens</th>\n",
              "      <th>Stemmed_Word_Count</th>\n",
              "      <th>Positive_Word_Count</th>\n",
              "      <th>Positive_Words_%</th>\n",
              "      <th>Negative_Word_Count</th>\n",
              "      <th>Negative_Words_%</th>\n",
              "      <th>Polarity</th>\n",
              "      <th>Subjectivity</th>\n",
              "    </tr>\n",
              "  </thead>\n",
              "  <tbody>\n",
              "    <tr>\n",
              "      <th>0</th>\n",
              "      <td>KU_O5udG6zpxOg-VcAEodg</td>\n",
              "      <td>mh_-eMZ6K5RLWhZyISBhwA</td>\n",
              "      <td>XQfwVwDr-v0ZS3_CbbE5Xw</td>\n",
              "      <td>3</td>\n",
              "      <td>0</td>\n",
              "      <td>0</td>\n",
              "      <td>0</td>\n",
              "      <td>If you decide to eat here, just be aware it is...</td>\n",
              "      <td>7/7/2018 22:09</td>\n",
              "      <td>515</td>\n",
              "      <td>...</td>\n",
              "      <td>decide eat aware going take 2 hour beginning e...</td>\n",
              "      <td>decid eat awar go take 2 hour begin end tri mu...</td>\n",
              "      <td>[decid, eat, awar, go, take, 2, hour, begin, e...</td>\n",
              "      <td>45</td>\n",
              "      <td>8</td>\n",
              "      <td>0.166667</td>\n",
              "      <td>3</td>\n",
              "      <td>0.062500</td>\n",
              "      <td>0.198485</td>\n",
              "      <td>0.412121</td>\n",
              "    </tr>\n",
              "    <tr>\n",
              "      <th>1</th>\n",
              "      <td>BiTunyQ73aT9WBnpR9DZGw</td>\n",
              "      <td>OyoGAe7OKpv6SyGZT5g77Q</td>\n",
              "      <td>7ATYjTIgM3jUlt4UM3IypQ</td>\n",
              "      <td>5</td>\n",
              "      <td>1</td>\n",
              "      <td>0</td>\n",
              "      <td>1</td>\n",
              "      <td>I've taken a lot of spin classes over the year...</td>\n",
              "      <td>1/3/2012 15:28</td>\n",
              "      <td>834</td>\n",
              "      <td>...</td>\n",
              "      <td>ive taken lot spin class year nothing compare ...</td>\n",
              "      <td>ive taken lot spin class year noth compar clas...</td>\n",
              "      <td>[ive, taken, lot, spin, class, year, noth, com...</td>\n",
              "      <td>84</td>\n",
              "      <td>18</td>\n",
              "      <td>0.206897</td>\n",
              "      <td>1</td>\n",
              "      <td>0.011494</td>\n",
              "      <td>0.395455</td>\n",
              "      <td>0.571212</td>\n",
              "    </tr>\n",
              "    <tr>\n",
              "      <th>2</th>\n",
              "      <td>saUsX_uimxRlCVr67Z4Jig</td>\n",
              "      <td>8g_iMtfSiwikVnbP2etR0A</td>\n",
              "      <td>YjUWPpI6HXG530lwP-fb2A</td>\n",
              "      <td>3</td>\n",
              "      <td>0</td>\n",
              "      <td>0</td>\n",
              "      <td>0</td>\n",
              "      <td>Family diner. Had the buffet. Eclectic assortm...</td>\n",
              "      <td>2/5/2014 20:30</td>\n",
              "      <td>339</td>\n",
              "      <td>...</td>\n",
              "      <td>family diner buffet eclectic assortment large ...</td>\n",
              "      <td>famili diner buffet eclect assort larg chicken...</td>\n",
              "      <td>[famili, diner, buffet, eclect, assort, larg, ...</td>\n",
              "      <td>39</td>\n",
              "      <td>6</td>\n",
              "      <td>0.150000</td>\n",
              "      <td>2</td>\n",
              "      <td>0.050000</td>\n",
              "      <td>0.139935</td>\n",
              "      <td>0.522294</td>\n",
              "    </tr>\n",
              "    <tr>\n",
              "      <th>3</th>\n",
              "      <td>AqPFMleE6RsU23_auESxiA</td>\n",
              "      <td>_7bHUi9Uuf5__HHc_Q8guQ</td>\n",
              "      <td>kxX2SOes4o-D3ZQBkiMRfA</td>\n",
              "      <td>5</td>\n",
              "      <td>1</td>\n",
              "      <td>0</td>\n",
              "      <td>1</td>\n",
              "      <td>Wow!  Yummy, different,  delicious.   Our favo...</td>\n",
              "      <td>1/4/2015 0:01</td>\n",
              "      <td>243</td>\n",
              "      <td>...</td>\n",
              "      <td>wow yummy different delicious favorite lamb cu...</td>\n",
              "      <td>wow yummi differ delici favorit lamb curri kor...</td>\n",
              "      <td>[wow, yummi, differ, delici, favorit, lamb, cu...</td>\n",
              "      <td>24</td>\n",
              "      <td>5</td>\n",
              "      <td>0.208333</td>\n",
              "      <td>2</td>\n",
              "      <td>0.083333</td>\n",
              "      <td>0.315152</td>\n",
              "      <td>0.733838</td>\n",
              "    </tr>\n",
              "    <tr>\n",
              "      <th>4</th>\n",
              "      <td>Sx8TMOWLNuJBWer-0pcmoA</td>\n",
              "      <td>bcjbaE6dDog4jkNY91ncLQ</td>\n",
              "      <td>e4Vwtrqf-wpJfwesgvdgxQ</td>\n",
              "      <td>4</td>\n",
              "      <td>1</td>\n",
              "      <td>0</td>\n",
              "      <td>1</td>\n",
              "      <td>Cute interior and owner (?) gave us tour of up...</td>\n",
              "      <td>1/14/2017 20:54</td>\n",
              "      <td>535</td>\n",
              "      <td>...</td>\n",
              "      <td>cute interior owner gave u tour upcoming patio...</td>\n",
              "      <td>cute interior owner gave u tour upcom patioroo...</td>\n",
              "      <td>[cute, interior, owner, gave, u, tour, upcom, ...</td>\n",
              "      <td>63</td>\n",
              "      <td>12</td>\n",
              "      <td>0.190476</td>\n",
              "      <td>1</td>\n",
              "      <td>0.015873</td>\n",
              "      <td>0.416234</td>\n",
              "      <td>0.490260</td>\n",
              "    </tr>\n",
              "  </tbody>\n",
              "</table>\n",
              "<p>5 rows × 28 columns</p>\n",
              "</div>\n",
              "      <button class=\"colab-df-convert\" onclick=\"convertToInteractive('df-fd569cd1-6ac1-4fa3-8e40-9cc1ce6f9fc4')\"\n",
              "              title=\"Convert this dataframe to an interactive table.\"\n",
              "              style=\"display:none;\">\n",
              "        \n",
              "  <svg xmlns=\"http://www.w3.org/2000/svg\" height=\"24px\"viewBox=\"0 0 24 24\"\n",
              "       width=\"24px\">\n",
              "    <path d=\"M0 0h24v24H0V0z\" fill=\"none\"/>\n",
              "    <path d=\"M18.56 5.44l.94 2.06.94-2.06 2.06-.94-2.06-.94-.94-2.06-.94 2.06-2.06.94zm-11 1L8.5 8.5l.94-2.06 2.06-.94-2.06-.94L8.5 2.5l-.94 2.06-2.06.94zm10 10l.94 2.06.94-2.06 2.06-.94-2.06-.94-.94-2.06-.94 2.06-2.06.94z\"/><path d=\"M17.41 7.96l-1.37-1.37c-.4-.4-.92-.59-1.43-.59-.52 0-1.04.2-1.43.59L10.3 9.45l-7.72 7.72c-.78.78-.78 2.05 0 2.83L4 21.41c.39.39.9.59 1.41.59.51 0 1.02-.2 1.41-.59l7.78-7.78 2.81-2.81c.8-.78.8-2.07 0-2.86zM5.41 20L4 18.59l7.72-7.72 1.47 1.35L5.41 20z\"/>\n",
              "  </svg>\n",
              "      </button>\n",
              "      \n",
              "  <style>\n",
              "    .colab-df-container {\n",
              "      display:flex;\n",
              "      flex-wrap:wrap;\n",
              "      gap: 12px;\n",
              "    }\n",
              "\n",
              "    .colab-df-convert {\n",
              "      background-color: #E8F0FE;\n",
              "      border: none;\n",
              "      border-radius: 50%;\n",
              "      cursor: pointer;\n",
              "      display: none;\n",
              "      fill: #1967D2;\n",
              "      height: 32px;\n",
              "      padding: 0 0 0 0;\n",
              "      width: 32px;\n",
              "    }\n",
              "\n",
              "    .colab-df-convert:hover {\n",
              "      background-color: #E2EBFA;\n",
              "      box-shadow: 0px 1px 2px rgba(60, 64, 67, 0.3), 0px 1px 3px 1px rgba(60, 64, 67, 0.15);\n",
              "      fill: #174EA6;\n",
              "    }\n",
              "\n",
              "    [theme=dark] .colab-df-convert {\n",
              "      background-color: #3B4455;\n",
              "      fill: #D2E3FC;\n",
              "    }\n",
              "\n",
              "    [theme=dark] .colab-df-convert:hover {\n",
              "      background-color: #434B5C;\n",
              "      box-shadow: 0px 1px 3px 1px rgba(0, 0, 0, 0.15);\n",
              "      filter: drop-shadow(0px 1px 2px rgba(0, 0, 0, 0.3));\n",
              "      fill: #FFFFFF;\n",
              "    }\n",
              "  </style>\n",
              "\n",
              "      <script>\n",
              "        const buttonEl =\n",
              "          document.querySelector('#df-fd569cd1-6ac1-4fa3-8e40-9cc1ce6f9fc4 button.colab-df-convert');\n",
              "        buttonEl.style.display =\n",
              "          google.colab.kernel.accessAllowed ? 'block' : 'none';\n",
              "\n",
              "        async function convertToInteractive(key) {\n",
              "          const element = document.querySelector('#df-fd569cd1-6ac1-4fa3-8e40-9cc1ce6f9fc4');\n",
              "          const dataTable =\n",
              "            await google.colab.kernel.invokeFunction('convertToInteractive',\n",
              "                                                     [key], {});\n",
              "          if (!dataTable) return;\n",
              "\n",
              "          const docLinkHtml = 'Like what you see? Visit the ' +\n",
              "            '<a target=\"_blank\" href=https://colab.research.google.com/notebooks/data_table.ipynb>data table notebook</a>'\n",
              "            + ' to learn more about interactive tables.';\n",
              "          element.innerHTML = '';\n",
              "          dataTable['output_type'] = 'display_data';\n",
              "          await google.colab.output.renderOutput(dataTable, element);\n",
              "          const docLink = document.createElement('div');\n",
              "          docLink.innerHTML = docLinkHtml;\n",
              "          element.appendChild(docLink);\n",
              "        }\n",
              "      </script>\n",
              "    </div>\n",
              "  </div>\n",
              "  "
            ]
          },
          "metadata": {},
          "execution_count": 73
        }
      ]
    },
    {
      "cell_type": "code",
      "source": [
        ""
      ],
      "metadata": {
        "id": "4Kpu7-ArnyCN"
      },
      "execution_count": null,
      "outputs": []
    }
  ],
  "metadata": {
    "accelerator": "GPU",
    "colab": {
      "machine_shape": "hm",
      "name": "Exploratory Data Analysis.ipynb",
      "provenance": []
    },
    "gpuClass": "standard",
    "kernelspec": {
      "display_name": "Python 3",
      "name": "python3"
    },
    "language_info": {
      "name": "python"
    }
  },
  "nbformat": 4,
  "nbformat_minor": 0
}