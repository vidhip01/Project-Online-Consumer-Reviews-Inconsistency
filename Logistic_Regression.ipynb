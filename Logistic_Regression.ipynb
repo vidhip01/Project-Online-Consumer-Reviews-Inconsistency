{
  "cells": [
    {
      "cell_type": "code",
      "execution_count": 1,
      "metadata": {
        "id": "r_SkEKetUrIe"
      },
      "outputs": [],
      "source": [
        "import numpy as np\n",
        "import pandas as pd\n",
        "import matplotlib.pyplot as plt"
      ]
    },
    {
      "cell_type": "code",
      "execution_count": 2,
      "metadata": {
        "id": "G1x1hldVU_Ei"
      },
      "outputs": [],
      "source": [
        "\n",
        "import spacy\n",
        "nlp = spacy.load('en_core_web_sm')"
      ]
    },
    {
      "cell_type": "code",
      "execution_count": 3,
      "metadata": {
        "id": "cDFbml-2VB05",
        "colab": {
          "base_uri": "https://localhost:8080/"
        },
        "outputId": "bd5debc2-0317-42ba-fb51-3301a46bd3d0"
      },
      "outputs": [
        {
          "output_type": "stream",
          "name": "stdout",
          "text": [
            "Mounted at /content/gdrive\n"
          ]
        }
      ],
      "source": [
        "from google.colab import drive\n",
        "drive.mount('/content/gdrive')"
      ]
    },
    {
      "cell_type": "code",
      "execution_count": 4,
      "metadata": {
        "id": "OMGPmdOoVFVZ"
      },
      "outputs": [],
      "source": [
        "data =pd.read_csv(\"/content/gdrive/MyDrive/Google Colab/new_data_analyzed.csv\", on_bad_lines='skip')"
      ]
    },
    {
      "cell_type": "code",
      "execution_count": 5,
      "metadata": {
        "id": "3dV75VOZVLcP",
        "colab": {
          "base_uri": "https://localhost:8080/"
        },
        "outputId": "d6445b64-db87-433f-ce65-44fbad5ad568"
      },
      "outputs": [
        {
          "output_type": "execute_result",
          "data": {
            "text/plain": [
              "(99999,)"
            ]
          },
          "metadata": {},
          "execution_count": 5
        }
      ],
      "source": [
        "documents = data['text']\n",
        "documents.shape"
      ]
    },
    {
      "cell_type": "code",
      "execution_count": 6,
      "metadata": {
        "id": "45R7PF1vVPGl",
        "colab": {
          "base_uri": "https://localhost:8080/"
        },
        "outputId": "eb978460-7e69-4dbf-a884-40fad571a095"
      },
      "outputs": [
        {
          "output_type": "execute_result",
          "data": {
            "text/plain": [
              "5    44391\n",
              "4    25337\n",
              "3    11362\n",
              "1    10921\n",
              "2     7988\n",
              "Name: stars, dtype: int64"
            ]
          },
          "metadata": {},
          "execution_count": 6
        }
      ],
      "source": [
        "target = data['stars']\n",
        "data['stars'].value_counts()"
      ]
    },
    {
      "cell_type": "code",
      "execution_count": 7,
      "metadata": {
        "id": "WWkheDubVRHl"
      },
      "outputs": [],
      "source": [
        "from sklearn.model_selection import train_test_split\n",
        "documents_train, documents_test, target_train, target_test = \\\n",
        "train_test_split(documents, target, random_state = 1, test_size=0.3)"
      ]
    },
    {
      "cell_type": "code",
      "execution_count": 8,
      "metadata": {
        "id": "gUfe8BeYVTqr",
        "colab": {
          "base_uri": "https://localhost:8080/",
          "height": 54
        },
        "outputId": "87167974-a690-4b73-b4c6-bfadf0c1146f"
      },
      "outputs": [
        {
          "output_type": "execute_result",
          "data": {
            "text/plain": [
              "\"My first time to eat here and would think twice if i'll ever wanted to do it again. Waited for a house salad for 30 minutes and our meal for another 30 minutes which i think is totally unacceptable to wait for you food for an 1 hour.\""
            ],
            "application/vnd.google.colaboratory.intrinsic+json": {
              "type": "string"
            }
          },
          "metadata": {},
          "execution_count": 8
        }
      ],
      "source": [
        "documents_train.iloc[1]"
      ]
    },
    {
      "cell_type": "code",
      "execution_count": 9,
      "metadata": {
        "id": "-INJI6qNVVxr",
        "colab": {
          "base_uri": "https://localhost:8080/"
        },
        "outputId": "51321b11-0868-4872-dc75-1aa687b720e1"
      },
      "outputs": [
        {
          "output_type": "stream",
          "name": "stderr",
          "text": [
            "/usr/local/lib/python3.7/dist-packages/sklearn/utils/deprecation.py:87: FutureWarning: Function get_feature_names is deprecated; get_feature_names is deprecated in 1.0 and will be removed in 1.2. Please use get_feature_names_out instead.\n",
            "  warnings.warn(msg, category=FutureWarning)\n"
          ]
        }
      ],
      "source": [
        "from sklearn.feature_extraction.text import TfidfVectorizer\n",
        "vectorizer = TfidfVectorizer(analyzer = 'word', stop_words = 'english', \n",
        "                             lowercase = True, max_features = 5000\n",
        "                            )\n",
        "# Train the model with my training data\n",
        "documents_train_vec = vectorizer.fit_transform(documents_train).toarray()\n",
        "# Get the vocab of your tfidf\n",
        "words = vectorizer.get_feature_names()\n",
        "# Use the trained model to transform your test data\n",
        "documents_test_vec = vectorizer.transform(documents_test).toarray()"
      ]
    },
    {
      "cell_type": "code",
      "execution_count": 10,
      "metadata": {
        "id": "bZigGEEPVYch"
      },
      "outputs": [],
      "source": [
        "def get_top_values(lst, n, labels):\n",
        "    #Given a list of values, find the indices with the highest n values.\n",
        "    #Return the labels for each of these indices.\n",
        "    return [labels[i] for i in np.argsort(lst)[::-1][:n]]  \n",
        "\n",
        "def get_bottom_values(lst, n, labels):\n",
        "    #Given a list of values, find the indices with the lowest n values.\n",
        "    #Return the labels for each of these indices.\n",
        "    return [labels[i] for i in np.argsort(lst)[:n]] "
      ]
    },
    {
      "cell_type": "code",
      "execution_count": 11,
      "metadata": {
        "id": "SY-lm2TrVcan",
        "colab": {
          "base_uri": "https://localhost:8080/",
          "height": 53
        },
        "outputId": "74661c5d-8bfe-4ef6-d2c8-c065f1b400c0"
      },
      "outputs": [
        {
          "output_type": "execute_result",
          "data": {
            "text/plain": [
              "\"Very clean ... however not a very relaxing environment.. cheap prices but I'd rather pay more money and get a better massage... I spent the whole time wondering where the therapist received his training\""
            ],
            "application/vnd.google.colaboratory.intrinsic+json": {
              "type": "string"
            }
          },
          "metadata": {},
          "execution_count": 11
        }
      ],
      "source": [
        "from sklearn.metrics.pairwise import cosine_similarity\n",
        "# Draw an arbitrary review from test (unseen in training) documents\n",
        "arbitrary_review = np.random.choice(documents_test, 1)\n",
        "arbitrary_review[0]"
      ]
    },
    {
      "cell_type": "code",
      "execution_count": 12,
      "metadata": {
        "id": "8oqgIEgsVemz",
        "colab": {
          "base_uri": "https://localhost:8080/"
        },
        "outputId": "c6c5f691-7e19-4bbc-9250-fa7b859d13cb"
      },
      "outputs": [
        {
          "output_type": "stream",
          "name": "stdout",
          "text": [
            "My search query: \n",
            "Very clean ... however not a very relaxing environment.. cheap prices but I'd rather pay more money and get a better massage... I spent the whole time wondering where the therapist received his training\n",
            "\n",
            "Top 5 similar reviews:\n",
            "No. 1 review is I booked a massage here with a coupon . When I got there, it didn't even appear anyone was there. No one was in the building except a male massage therapist. I filled out the paperwork indicating I was having shoulder problems. At no time during the massage did the therapist do anything for my shoulders. It was only a back massage, and was the worst massage I've ever had. Would not go back there, or recommend. I've had better massages from students at massage schools. On a positive note, the place was clean, in the therapist didn't talk all thru the massage. That's the best I can say for it..\n",
            "\n",
            "No. 2 review is I was 38 weeks pregnant when I went to Sweet Momma and received a massage and pedicure. The massage was the BEST massage I ever had, the massage table was so comfortable and the massage therapist was excellent. The pedicure was also fantastic! The atmosphere is so relaxing and there are many great products for sale as well!.\n",
            "\n",
            "No. 3 review is Erika is a seasoned massage therapist. Her technique is very thorough relaxing. I enjoyed every minute and will be going back for another soon..\n",
            "\n",
            "No. 4 review is Nice relaxing place to get a massage! Same day appointments are easy to come by! I have never been disappointed with any therapist I have had at the Center!.\n",
            "\n",
            "No. 5 review is Massage: EXCELLENT!!!\\n\\nService: Professional and friendly. (Note: They have limited English speaking skill, so please be patient and understanding.) \\n\\nTherapist: Gina. She is a highly experienced massage therapist who practiced Tui Na and Shiatsu. \\n\\nIn case you're wondering what's their prices, since they don't have a website:  \\n30mins = $39\\n60mins = $49\\n90mins = $79.\n",
            "\n"
          ]
        }
      ],
      "source": [
        "# Transform the drawn review(s) to vector(s)\n",
        "arbitrary_review_vec = vectorizer.transform([arbitrary_review[0]]).toarray()\n",
        "# Calculate the similarity score(s) between vector(s) and training vectors\n",
        "similarity_score = cosine_similarity(arbitrary_review_vec, documents_train_vec)\n",
        "\n",
        "# Let me find top 5 similar reviews\n",
        "n = 5\n",
        "similar_reviews = get_top_values(similarity_score[0], n, list(documents_train))\n",
        "\n",
        "print('My search query: \\n%s\\n' % (arbitrary_review[0]))\n",
        "print('Top %s similar reviews:' % n)\n",
        "for i in range(n):\n",
        "    print('No. %d review is %s.\\n' % (i+1, similar_reviews[i]))"
      ]
    },
    {
      "cell_type": "markdown",
      "metadata": {
        "id": "KLcCQzh-V5q8"
      },
      "source": [
        "Logistic Regression"
      ]
    },
    {
      "cell_type": "code",
      "execution_count": null,
      "metadata": {
        "id": "CfK1sTc9V9Ex",
        "colab": {
          "base_uri": "https://localhost:8080/"
        },
        "outputId": "f556ac23-8c20-401e-fdc3-e7185ce42632"
      },
      "outputs": [
        {
          "output_type": "stream",
          "name": "stderr",
          "text": [
            "[Parallel(n_jobs=-1)]: Using backend LokyBackend with 2 concurrent workers.\n"
          ]
        }
      ],
      "source": [
        "# Build a Logistic Regression Classifier\n",
        "from sklearn.linear_model import LogisticRegression\n",
        "clf_LR = LogisticRegression(multi_class = 'ovr', n_jobs = -1, verbose = 1)\n",
        "clf_LR.fit(documents_train_vec, target_train)"
      ]
    },
    {
      "cell_type": "code",
      "execution_count": null,
      "metadata": {
        "id": "iplPKnPQV_XU"
      },
      "outputs": [],
      "source": [
        ""
      ]
    }
  ],
  "metadata": {
    "colab": {
      "name": "Logistic_Regression.ipynb",
      "provenance": []
    },
    "kernelspec": {
      "display_name": "Python 3",
      "name": "python3"
    },
    "language_info": {
      "name": "python"
    }
  },
  "nbformat": 4,
  "nbformat_minor": 0
}