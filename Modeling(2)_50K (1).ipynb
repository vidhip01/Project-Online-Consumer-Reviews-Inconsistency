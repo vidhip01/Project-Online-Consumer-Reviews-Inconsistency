{
  "nbformat": 4,
  "nbformat_minor": 0,
  "metadata": {
    "colab": {
      "name": "Modeling(2)_50K.ipynb",
      "provenance": []
    },
    "kernelspec": {
      "name": "python3",
      "display_name": "Python 3"
    },
    "language_info": {
      "name": "python"
    }
  },
  "cells": [
    {
      "cell_type": "code",
      "execution_count": null,
      "metadata": {
        "id": "CX9V35LkTcFd"
      },
      "outputs": [],
      "source": [
        "import pandas as pd\n",
        "import numpy as np\n",
        "import matplotlib.pyplot as plt\n",
        "import warnings\n",
        "warnings.filterwarnings('ignore')"
      ]
    },
    {
      "cell_type": "code",
      "source": [
        "yelp_data =pd.read_csv(\"Google Colab/yelp_data_sentiment_50K.csv\")\n",
        "yelp_data.head(2)"
      ],
      "metadata": {
        "id": "gmDffQIvTpKB",
        "colab": {
          "base_uri": "https://localhost:8080/",
          "height": 272
        },
        "outputId": "556d6d4b-2500-4855-f183-1eea4bfae0dc"
      },
      "execution_count": null,
      "outputs": [
        {
          "output_type": "execute_result",
          "data": {
            "text/plain": [
              "                     Name                                             Review  \\\n",
              "0  mh_-eMZ6K5RLWhZyISBhwA  If you decide to eat here, just be aware it is...   \n",
              "1  OyoGAe7OKpv6SyGZT5g77Q  I've taken a lot of spin classes over the year...   \n",
              "\n",
              "   Polarity          Sentiment  Positive_Words_P  decid  eat  awar   go  take  \\\n",
              "0  0.198485  Slightly Negative          0.166667    0.0  0.0   0.0  0.0   0.0   \n",
              "1  0.395455  Slightly Positive          0.206897    0.0  0.0   0.0  0.0   0.0   \n",
              "\n",
              "   ...  nnthat  midnight  seawe  good look  teenag  carnita  hangov  \\\n",
              "0  ...     0.0       0.0    0.0        0.0     0.0      0.0     0.0   \n",
              "1  ...     0.0       0.0    0.0        0.0     0.0      0.0     0.0   \n",
              "\n",
              "   waitress nice  bake potato  took 15  \n",
              "0            0.0          0.0      0.0  \n",
              "1            0.0          0.0      0.0  \n",
              "\n",
              "[2 rows x 5956 columns]"
            ],
            "text/html": [
              "\n",
              "  <div id=\"df-4cc34631-6733-4ae1-a117-997e35281562\">\n",
              "    <div class=\"colab-df-container\">\n",
              "      <div>\n",
              "<style scoped>\n",
              "    .dataframe tbody tr th:only-of-type {\n",
              "        vertical-align: middle;\n",
              "    }\n",
              "\n",
              "    .dataframe tbody tr th {\n",
              "        vertical-align: top;\n",
              "    }\n",
              "\n",
              "    .dataframe thead th {\n",
              "        text-align: right;\n",
              "    }\n",
              "</style>\n",
              "<table border=\"1\" class=\"dataframe\">\n",
              "  <thead>\n",
              "    <tr style=\"text-align: right;\">\n",
              "      <th></th>\n",
              "      <th>Name</th>\n",
              "      <th>Review</th>\n",
              "      <th>Polarity</th>\n",
              "      <th>Sentiment</th>\n",
              "      <th>Positive_Words_P</th>\n",
              "      <th>decid</th>\n",
              "      <th>eat</th>\n",
              "      <th>awar</th>\n",
              "      <th>go</th>\n",
              "      <th>take</th>\n",
              "      <th>...</th>\n",
              "      <th>nnthat</th>\n",
              "      <th>midnight</th>\n",
              "      <th>seawe</th>\n",
              "      <th>good look</th>\n",
              "      <th>teenag</th>\n",
              "      <th>carnita</th>\n",
              "      <th>hangov</th>\n",
              "      <th>waitress nice</th>\n",
              "      <th>bake potato</th>\n",
              "      <th>took 15</th>\n",
              "    </tr>\n",
              "  </thead>\n",
              "  <tbody>\n",
              "    <tr>\n",
              "      <th>0</th>\n",
              "      <td>mh_-eMZ6K5RLWhZyISBhwA</td>\n",
              "      <td>If you decide to eat here, just be aware it is...</td>\n",
              "      <td>0.198485</td>\n",
              "      <td>Slightly Negative</td>\n",
              "      <td>0.166667</td>\n",
              "      <td>0.0</td>\n",
              "      <td>0.0</td>\n",
              "      <td>0.0</td>\n",
              "      <td>0.0</td>\n",
              "      <td>0.0</td>\n",
              "      <td>...</td>\n",
              "      <td>0.0</td>\n",
              "      <td>0.0</td>\n",
              "      <td>0.0</td>\n",
              "      <td>0.0</td>\n",
              "      <td>0.0</td>\n",
              "      <td>0.0</td>\n",
              "      <td>0.0</td>\n",
              "      <td>0.0</td>\n",
              "      <td>0.0</td>\n",
              "      <td>0.0</td>\n",
              "    </tr>\n",
              "    <tr>\n",
              "      <th>1</th>\n",
              "      <td>OyoGAe7OKpv6SyGZT5g77Q</td>\n",
              "      <td>I've taken a lot of spin classes over the year...</td>\n",
              "      <td>0.395455</td>\n",
              "      <td>Slightly Positive</td>\n",
              "      <td>0.206897</td>\n",
              "      <td>0.0</td>\n",
              "      <td>0.0</td>\n",
              "      <td>0.0</td>\n",
              "      <td>0.0</td>\n",
              "      <td>0.0</td>\n",
              "      <td>...</td>\n",
              "      <td>0.0</td>\n",
              "      <td>0.0</td>\n",
              "      <td>0.0</td>\n",
              "      <td>0.0</td>\n",
              "      <td>0.0</td>\n",
              "      <td>0.0</td>\n",
              "      <td>0.0</td>\n",
              "      <td>0.0</td>\n",
              "      <td>0.0</td>\n",
              "      <td>0.0</td>\n",
              "    </tr>\n",
              "  </tbody>\n",
              "</table>\n",
              "<p>2 rows × 5956 columns</p>\n",
              "</div>\n",
              "      <button class=\"colab-df-convert\" onclick=\"convertToInteractive('df-4cc34631-6733-4ae1-a117-997e35281562')\"\n",
              "              title=\"Convert this dataframe to an interactive table.\"\n",
              "              style=\"display:none;\">\n",
              "        \n",
              "  <svg xmlns=\"http://www.w3.org/2000/svg\" height=\"24px\"viewBox=\"0 0 24 24\"\n",
              "       width=\"24px\">\n",
              "    <path d=\"M0 0h24v24H0V0z\" fill=\"none\"/>\n",
              "    <path d=\"M18.56 5.44l.94 2.06.94-2.06 2.06-.94-2.06-.94-.94-2.06-.94 2.06-2.06.94zm-11 1L8.5 8.5l.94-2.06 2.06-.94-2.06-.94L8.5 2.5l-.94 2.06-2.06.94zm10 10l.94 2.06.94-2.06 2.06-.94-2.06-.94-.94-2.06-.94 2.06-2.06.94z\"/><path d=\"M17.41 7.96l-1.37-1.37c-.4-.4-.92-.59-1.43-.59-.52 0-1.04.2-1.43.59L10.3 9.45l-7.72 7.72c-.78.78-.78 2.05 0 2.83L4 21.41c.39.39.9.59 1.41.59.51 0 1.02-.2 1.41-.59l7.78-7.78 2.81-2.81c.8-.78.8-2.07 0-2.86zM5.41 20L4 18.59l7.72-7.72 1.47 1.35L5.41 20z\"/>\n",
              "  </svg>\n",
              "      </button>\n",
              "      \n",
              "  <style>\n",
              "    .colab-df-container {\n",
              "      display:flex;\n",
              "      flex-wrap:wrap;\n",
              "      gap: 12px;\n",
              "    }\n",
              "\n",
              "    .colab-df-convert {\n",
              "      background-color: #E8F0FE;\n",
              "      border: none;\n",
              "      border-radius: 50%;\n",
              "      cursor: pointer;\n",
              "      display: none;\n",
              "      fill: #1967D2;\n",
              "      height: 32px;\n",
              "      padding: 0 0 0 0;\n",
              "      width: 32px;\n",
              "    }\n",
              "\n",
              "    .colab-df-convert:hover {\n",
              "      background-color: #E2EBFA;\n",
              "      box-shadow: 0px 1px 2px rgba(60, 64, 67, 0.3), 0px 1px 3px 1px rgba(60, 64, 67, 0.15);\n",
              "      fill: #174EA6;\n",
              "    }\n",
              "\n",
              "    [theme=dark] .colab-df-convert {\n",
              "      background-color: #3B4455;\n",
              "      fill: #D2E3FC;\n",
              "    }\n",
              "\n",
              "    [theme=dark] .colab-df-convert:hover {\n",
              "      background-color: #434B5C;\n",
              "      box-shadow: 0px 1px 3px 1px rgba(0, 0, 0, 0.15);\n",
              "      filter: drop-shadow(0px 1px 2px rgba(0, 0, 0, 0.3));\n",
              "      fill: #FFFFFF;\n",
              "    }\n",
              "  </style>\n",
              "\n",
              "      <script>\n",
              "        const buttonEl =\n",
              "          document.querySelector('#df-4cc34631-6733-4ae1-a117-997e35281562 button.colab-df-convert');\n",
              "        buttonEl.style.display =\n",
              "          google.colab.kernel.accessAllowed ? 'block' : 'none';\n",
              "\n",
              "        async function convertToInteractive(key) {\n",
              "          const element = document.querySelector('#df-4cc34631-6733-4ae1-a117-997e35281562');\n",
              "          const dataTable =\n",
              "            await google.colab.kernel.invokeFunction('convertToInteractive',\n",
              "                                                     [key], {});\n",
              "          if (!dataTable) return;\n",
              "\n",
              "          const docLinkHtml = 'Like what you see? Visit the ' +\n",
              "            '<a target=\"_blank\" href=https://colab.research.google.com/notebooks/data_table.ipynb>data table notebook</a>'\n",
              "            + ' to learn more about interactive tables.';\n",
              "          element.innerHTML = '';\n",
              "          dataTable['output_type'] = 'display_data';\n",
              "          await google.colab.output.renderOutput(dataTable, element);\n",
              "          const docLink = document.createElement('div');\n",
              "          docLink.innerHTML = docLinkHtml;\n",
              "          element.appendChild(docLink);\n",
              "        }\n",
              "      </script>\n",
              "    </div>\n",
              "  </div>\n",
              "  "
            ]
          },
          "metadata": {},
          "execution_count": 4
        }
      ]
    },
    {
      "cell_type": "markdown",
      "source": [
        "ML model with bag of words"
      ],
      "metadata": {
        "id": "MSQeCva9T1L3"
      }
    },
    {
      "cell_type": "code",
      "source": [
        "from sklearn.linear_model import LogisticRegression\n",
        "from sklearn.model_selection import GridSearchCV\n",
        "from sklearn.metrics import make_scorer, accuracy_score, f1_score\n",
        "from sklearn.model_selection import train_test_split\n",
        "from sklearn.pipeline import Pipeline\n",
        "from sklearn.preprocessing import StandardScaler\n",
        "import pickle\n",
        "\n",
        "\n",
        "X = yelp_data.Review\n",
        "y = yelp_data.Sentiment\n",
        "indices = yelp_data.index\n",
        "\n",
        "X_train, X_test, y_train, y_test, itrain, itest = train_test_split(X,y,indices,train_size=0.8,random_state=7)"
      ],
      "metadata": {
        "id": "c3tRuy-UT8kg",
        "colab": {
          "base_uri": "https://localhost:8080/",
          "height": 244
        },
        "outputId": "0366bb71-9b9e-4155-c093-b4212da87809"
      },
      "execution_count": null,
      "outputs": [
        {
          "output_type": "error",
          "ename": "NameError",
          "evalue": "ignored",
          "traceback": [
            "\u001b[0;31m---------------------------------------------------------------------------\u001b[0m",
            "\u001b[0;31mNameError\u001b[0m                                 Traceback (most recent call last)",
            "\u001b[0;32m<ipython-input-2-e3955c2d97dd>\u001b[0m in \u001b[0;36m<module>\u001b[0;34m()\u001b[0m\n\u001b[1;32m      8\u001b[0m \u001b[0;34m\u001b[0m\u001b[0m\n\u001b[1;32m      9\u001b[0m \u001b[0;34m\u001b[0m\u001b[0m\n\u001b[0;32m---> 10\u001b[0;31m \u001b[0mX\u001b[0m \u001b[0;34m=\u001b[0m \u001b[0myelp_data\u001b[0m\u001b[0;34m.\u001b[0m\u001b[0mReview\u001b[0m\u001b[0;34m\u001b[0m\u001b[0;34m\u001b[0m\u001b[0m\n\u001b[0m\u001b[1;32m     11\u001b[0m \u001b[0my\u001b[0m \u001b[0;34m=\u001b[0m \u001b[0myelp_data\u001b[0m\u001b[0;34m.\u001b[0m\u001b[0mSentiment\u001b[0m\u001b[0;34m\u001b[0m\u001b[0;34m\u001b[0m\u001b[0m\n\u001b[1;32m     12\u001b[0m \u001b[0mindices\u001b[0m \u001b[0;34m=\u001b[0m \u001b[0myelp_data\u001b[0m\u001b[0;34m.\u001b[0m\u001b[0mindex\u001b[0m\u001b[0;34m\u001b[0m\u001b[0;34m\u001b[0m\u001b[0m\n",
            "\u001b[0;31mNameError\u001b[0m: name 'yelp_data' is not defined"
          ]
        }
      ]
    },
    {
      "cell_type": "markdown",
      "source": [
        "1) Naive Bayes with CountVectorizer"
      ],
      "metadata": {
        "id": "u2Ahs-f2VKin"
      }
    },
    {
      "cell_type": "code",
      "source": [
        "from sklearn.feature_extraction.text import CountVectorizer\n",
        "from sklearn.naive_bayes import MultinomialNB\n",
        "\n",
        "steps = [('vec', CountVectorizer(stop_words = 'english', ngram_range = (1, 2))), ('nb', MultinomialNB())] \n",
        "pipeline = Pipeline(steps) \n",
        "parameters = {'vec__min_df':[0.01, 0.1, 1, 10, 100], 'nb__alpha':[0.01, 0.1, 1, 10, 100]}\n",
        "\n",
        "clf = GridSearchCV(pipeline, parameters, cv = 10, scoring=\"accuracy\") \n",
        "clf.fit(X_train, y_train)\n",
        "\n",
        "clf.best_params_"
      ],
      "metadata": {
        "colab": {
          "base_uri": "https://localhost:8080/",
          "height": 244
        },
        "id": "nxuAIwB2VGWI",
        "outputId": "c8b40142-a050-4886-aa90-f44b18276e4f"
      },
      "execution_count": null,
      "outputs": [
        {
          "output_type": "error",
          "ename": "NameError",
          "evalue": "ignored",
          "traceback": [
            "\u001b[0;31m---------------------------------------------------------------------------\u001b[0m",
            "\u001b[0;31mNameError\u001b[0m                                 Traceback (most recent call last)",
            "\u001b[0;32m<ipython-input-1-e88a13d392d1>\u001b[0m in \u001b[0;36m<module>\u001b[0;34m()\u001b[0m\n\u001b[1;32m      3\u001b[0m \u001b[0;34m\u001b[0m\u001b[0m\n\u001b[1;32m      4\u001b[0m \u001b[0msteps\u001b[0m \u001b[0;34m=\u001b[0m \u001b[0;34m[\u001b[0m\u001b[0;34m(\u001b[0m\u001b[0;34m'vec'\u001b[0m\u001b[0;34m,\u001b[0m \u001b[0mCountVectorizer\u001b[0m\u001b[0;34m(\u001b[0m\u001b[0mstop_words\u001b[0m \u001b[0;34m=\u001b[0m \u001b[0;34m'english'\u001b[0m\u001b[0;34m,\u001b[0m \u001b[0mngram_range\u001b[0m \u001b[0;34m=\u001b[0m \u001b[0;34m(\u001b[0m\u001b[0;36m1\u001b[0m\u001b[0;34m,\u001b[0m \u001b[0;36m2\u001b[0m\u001b[0;34m)\u001b[0m\u001b[0;34m)\u001b[0m\u001b[0;34m)\u001b[0m\u001b[0;34m,\u001b[0m \u001b[0;34m(\u001b[0m\u001b[0;34m'nb'\u001b[0m\u001b[0;34m,\u001b[0m \u001b[0mMultinomialNB\u001b[0m\u001b[0;34m(\u001b[0m\u001b[0;34m)\u001b[0m\u001b[0;34m)\u001b[0m\u001b[0;34m]\u001b[0m\u001b[0;34m\u001b[0m\u001b[0;34m\u001b[0m\u001b[0m\n\u001b[0;32m----> 5\u001b[0;31m \u001b[0mpipeline\u001b[0m \u001b[0;34m=\u001b[0m \u001b[0mPipeline\u001b[0m\u001b[0;34m(\u001b[0m\u001b[0msteps\u001b[0m\u001b[0;34m)\u001b[0m\u001b[0;34m\u001b[0m\u001b[0;34m\u001b[0m\u001b[0m\n\u001b[0m\u001b[1;32m      6\u001b[0m \u001b[0mparameters\u001b[0m \u001b[0;34m=\u001b[0m \u001b[0;34m{\u001b[0m\u001b[0;34m'vec__min_df'\u001b[0m\u001b[0;34m:\u001b[0m\u001b[0;34m[\u001b[0m\u001b[0;36m0.01\u001b[0m\u001b[0;34m,\u001b[0m \u001b[0;36m0.1\u001b[0m\u001b[0;34m,\u001b[0m \u001b[0;36m1\u001b[0m\u001b[0;34m,\u001b[0m \u001b[0;36m10\u001b[0m\u001b[0;34m,\u001b[0m \u001b[0;36m100\u001b[0m\u001b[0;34m]\u001b[0m\u001b[0;34m,\u001b[0m \u001b[0;34m'nb__alpha'\u001b[0m\u001b[0;34m:\u001b[0m\u001b[0;34m[\u001b[0m\u001b[0;36m0.01\u001b[0m\u001b[0;34m,\u001b[0m \u001b[0;36m0.1\u001b[0m\u001b[0;34m,\u001b[0m \u001b[0;36m1\u001b[0m\u001b[0;34m,\u001b[0m \u001b[0;36m10\u001b[0m\u001b[0;34m,\u001b[0m \u001b[0;36m100\u001b[0m\u001b[0;34m]\u001b[0m\u001b[0;34m}\u001b[0m\u001b[0;34m\u001b[0m\u001b[0;34m\u001b[0m\u001b[0m\n\u001b[1;32m      7\u001b[0m \u001b[0;34m\u001b[0m\u001b[0m\n",
            "\u001b[0;31mNameError\u001b[0m: name 'Pipeline' is not defined"
          ]
        }
      ]
    },
    {
      "cell_type": "code",
      "source": [
        "filename = 'nb_cv.sav'\n",
        "pickle.dump(clf, open(filename, 'wb'))"
      ],
      "metadata": {
        "id": "_hzbo4-KU7-I"
      },
      "execution_count": null,
      "outputs": []
    },
    {
      "cell_type": "code",
      "source": [
        "filename = 'nb_cv.sav'\n",
        "clf = pickle.load(open(filename, 'rb'))"
      ],
      "metadata": {
        "id": "1spvE67eVUAx"
      },
      "execution_count": null,
      "outputs": []
    },
    {
      "cell_type": "code",
      "source": [
        "results = clf.predict(X_test)"
      ],
      "metadata": {
        "id": "wxpA_z7eVWfP"
      },
      "execution_count": null,
      "outputs": []
    },
    {
      "cell_type": "code",
      "source": [
        "test_accuracy = clf.score(X_test, y_test)\n",
        "probs = clf.predict_proba(X_test)[:, 1]\n",
        "f1_accuracy = f1_score(y_test,results,average='macro')\n",
        "f1_accuracym = f1_score(y_test,results,average='micro')\n",
        "f1_accuracyw = f1_score(y_test,results,average='weighted')\n",
        "print(\"Accuracy on test data: \" ,test_accuracy)\n",
        "print('F1 Score (macro): ', f1_accuracy)\n",
        "print('F1 Score (micro): ', f1_accuracym)\n",
        "print('F1 Score (weighted): ', f1_accuracyw)"
      ],
      "metadata": {
        "id": "W_wn6Px6VYeP"
      },
      "execution_count": null,
      "outputs": []
    },
    {
      "cell_type": "code",
      "source": [
        "nb_cv_acc = test_accuracy\n",
        "nb_cv_f1 = f1_accuracy\n",
        "nb_cv_f1m = f1_accuracym\n",
        "nb_cv_f1w = f1_accuracyw"
      ],
      "metadata": {
        "id": "Va2_H7shVapf"
      },
      "execution_count": null,
      "outputs": []
    },
    {
      "cell_type": "markdown",
      "source": [
        "Naive Bayes with TFIDF"
      ],
      "metadata": {
        "id": "frrWBOhcViAQ"
      }
    },
    {
      "cell_type": "code",
      "source": [
        "from sklearn.feature_extraction.text import TfidfVectorizer\n",
        "from sklearn.naive_bayes import MultinomialNB\n",
        "\n",
        "steps = [('vec', TfidfVectorizer(stop_words = 'english', ngram_range = (1, 2))), ('nb', MultinomialNB())] \n",
        "pipeline = Pipeline(steps) \n",
        "parameters = {'vec__min_df':[0.01, 0.1, 1, 10, 100], 'nb__alpha':[0.01, 0.1, 1, 10, 100]}\n",
        "\n",
        "clf = GridSearchCV(pipeline, parameters, cv = 10, scoring=\"accuracy\") \n",
        "clf.fit(X_train, y_train)\n",
        "\n",
        "clf.best_params_"
      ],
      "metadata": {
        "id": "FzJf-pP2VdY_"
      },
      "execution_count": null,
      "outputs": []
    },
    {
      "cell_type": "code",
      "source": [
        "filename = 'nb_tf.sav'\n",
        "pickle.dump(clf, open(filename, 'wb'))"
      ],
      "metadata": {
        "id": "S9gJ6Wz8VlsA"
      },
      "execution_count": null,
      "outputs": []
    },
    {
      "cell_type": "code",
      "source": [
        "filename = 'nb_tf.sav'\n",
        "clf = pickle.load(open(filename, 'rb'))"
      ],
      "metadata": {
        "id": "ahOgB_fNVoGK"
      },
      "execution_count": null,
      "outputs": []
    },
    {
      "cell_type": "code",
      "source": [
        "\n",
        "results = clf.predict(X_test)"
      ],
      "metadata": {
        "id": "2x-6St9IVqi4"
      },
      "execution_count": null,
      "outputs": []
    },
    {
      "cell_type": "code",
      "source": [
        "test_accuracy = clf.score(X_test, y_test)\n",
        "probs = clf.predict_proba(X_test)[:, 1]\n",
        "f1_accuracy = f1_score(y_test,results,average='macro')\n",
        "f1_accuracym = f1_score(y_test,results,average='micro')\n",
        "f1_accuracyw = f1_score(y_test,results,average='weighted')\n",
        "print(\"Accuracy on test data: \" ,test_accuracy)\n",
        "print('F1 Score (macro): ', f1_accuracy)\n",
        "print('F1 Score (micro): ', f1_accuracym)\n",
        "print('F1 Score (weighted): ', f1_accuracyw)"
      ],
      "metadata": {
        "id": "JE9ajBc7Vsz4"
      },
      "execution_count": null,
      "outputs": []
    },
    {
      "cell_type": "code",
      "source": [
        "nb_tf_acc = test_accuracy\n",
        "nb_tf_f1 = f1_accuracy\n",
        "nb_tf_f1m = f1_accuracym\n",
        "nb_tf_f1w = f1_accuracyw"
      ],
      "metadata": {
        "id": "-Fs-eKX6Vw6Y"
      },
      "execution_count": null,
      "outputs": []
    },
    {
      "cell_type": "markdown",
      "source": [
        "3) Gradient Boosted Classifier with Count Vectorizer"
      ],
      "metadata": {
        "id": "X3-RW75NXC2v"
      }
    },
    {
      "cell_type": "code",
      "source": [
        "from sklearn.ensemble import GradientBoostingClassifier \n",
        "\n",
        "steps = [('vec', CountVectorizer(min_df = 1, stop_words = 'english', ngram_range = (1, 2))), \n",
        "         ('gbc', GradientBoostingClassifier(max_features='sqrt'))] \n",
        "pipeline = Pipeline(steps) \n",
        "parameters = {'gbc__n_estimators':[10, 50, 100, 200, 500], 'gbc__learning_rate': [0.05, 0.1, 0.15, 0.2, 0.25]}\n",
        "\n",
        "clf = GridSearchCV(pipeline, parameters, cv = 3, scoring=\"accuracy\") \n",
        "clf.fit(X_train, y_train)\n",
        "\n",
        "clf.best_params_"
      ],
      "metadata": {
        "id": "_OouT8ajWrKQ"
      },
      "execution_count": null,
      "outputs": []
    },
    {
      "cell_type": "code",
      "source": [
        "steps = [('vec', CountVectorizer(min_df = 1, stop_words = 'english', ngram_range = (1, 2))), \n",
        "         ('gbc', GradientBoostingClassifier(learning_rate = 0.2, max_features = 'sqrt', n_estimators = 500))] \n",
        "clf = Pipeline(steps) \n",
        "clf.fit(X_train, y_train)"
      ],
      "metadata": {
        "id": "tkXqxfylXJmP"
      },
      "execution_count": null,
      "outputs": []
    },
    {
      "cell_type": "code",
      "source": [
        "filename = 'gbc_cv.sav'\n",
        "pickle.dump(clf, open(filename, 'wb'))"
      ],
      "metadata": {
        "id": "bBjVC_olXL_B"
      },
      "execution_count": null,
      "outputs": []
    },
    {
      "cell_type": "code",
      "source": [
        "filename = 'gbc_cv.sav'\n",
        "clf = pickle.load(open(filename, 'rb'))"
      ],
      "metadata": {
        "id": "0A1hc4a_Xh4I"
      },
      "execution_count": null,
      "outputs": []
    },
    {
      "cell_type": "code",
      "source": [
        "results = clf.predict(X_test)"
      ],
      "metadata": {
        "id": "8NKNStOSXj9Q"
      },
      "execution_count": null,
      "outputs": []
    },
    {
      "cell_type": "code",
      "source": [
        "test_accuracy = clf.score(X_test, y_test)\n",
        "probs = clf.predict_proba(X_test)[:, 1]\n",
        "f1_accuracy = f1_score(y_test,results,average='macro')\n",
        "f1_accuracym = f1_score(y_test,results,average='micro')\n",
        "f1_accuracyw = f1_score(y_test,results,average='weighted')\n",
        "print(\"Accuracy on test data: \" ,test_accuracy)\n",
        "print('F1 Score (macro): ', f1_accuracy)\n",
        "print('F1 Score (micro): ', f1_accuracym)\n",
        "print('F1 Score (weighted): ', f1_accuracyw)"
      ],
      "metadata": {
        "id": "uz35vyMWYpxh"
      },
      "execution_count": null,
      "outputs": []
    },
    {
      "cell_type": "code",
      "source": [
        "gbc_cv_acc = test_accuracy\n",
        "gbc_cv_f1 = f1_accuracy\n",
        "gbc_cv_f1m = f1_accuracym\n",
        "gbc_cv_f1w = f1_accuracyw"
      ],
      "metadata": {
        "id": "-PhpLK4FYsEA"
      },
      "execution_count": null,
      "outputs": []
    },
    {
      "cell_type": "markdown",
      "source": [
        "4) Gradient Boosted Classifier with TFIDF\n"
      ],
      "metadata": {
        "id": "zEf4HaaHYu1g"
      }
    },
    {
      "cell_type": "code",
      "source": [
        "steps = [('vec', TfidfVectorizer(stop_words = 'english', ngram_range = (1, 2))), \n",
        "         ('gbc', GradientBoostingClassifier(max_features='sqrt',n_estimators=500))] \n",
        "pipeline = Pipeline(steps) \n",
        "parameters = {'gbc__learning_rate': [0.05, 0.1, 0.15, 0.2, 0.25]}\n",
        "\n",
        "clf = GridSearchCV(pipeline, parameters, cv = 3, scoring=\"accuracy\") \n",
        "clf.fit(X_train, y_train)\n",
        "\n",
        "clf.best_params_"
      ],
      "metadata": {
        "id": "RrDCkyuNYyt4"
      },
      "execution_count": null,
      "outputs": []
    },
    {
      "cell_type": "code",
      "source": [
        "steps = [('vec', TfidfVectorizer(stop_words = 'english', ngram_range = (1, 2))), \n",
        "         ('gbc', GradientBoostingClassifier(learning_rate = 0.25, max_features = 'sqrt', n_estimators = 500))] \n",
        "clf = Pipeline(steps) \n",
        "clf.fit(X_train, y_train)"
      ],
      "metadata": {
        "id": "p-R8E6MLY1Qy"
      },
      "execution_count": null,
      "outputs": []
    },
    {
      "cell_type": "code",
      "source": [
        "filename = 'gbc_tf.sav'\n",
        "pickle.dump(clf, open(filename, 'wb'))"
      ],
      "metadata": {
        "id": "vu2OVy0cY3ZQ"
      },
      "execution_count": null,
      "outputs": []
    },
    {
      "cell_type": "code",
      "source": [
        "filename = 'gbc_tf.sav'\n",
        "clf = pickle.load(open(filename, 'rb'))"
      ],
      "metadata": {
        "id": "uzyJoNUnY6Vx"
      },
      "execution_count": null,
      "outputs": []
    },
    {
      "cell_type": "code",
      "source": [
        "results = clf.predict(X_test)"
      ],
      "metadata": {
        "id": "bU-KlKZrY8o6"
      },
      "execution_count": null,
      "outputs": []
    },
    {
      "cell_type": "code",
      "source": [
        "test_accuracy = clf.score(X_test, y_test)\n",
        "probs = clf.predict_proba(X_test)[:, 1]\n",
        "f1_accuracy = f1_score(y_test,results,average='macro')\n",
        "f1_accuracym = f1_score(y_test,results,average='micro')\n",
        "f1_accuracyw = f1_score(y_test,results,average='weighted')\n",
        "print(\"Accuracy on test data: \" ,test_accuracy)\n",
        "print('F1 Score (macro): ', f1_accuracy)\n",
        "print('F1 Score (micro): ', f1_accuracym)\n",
        "print('F1 Score (weighted): ', f1_accuracyw)"
      ],
      "metadata": {
        "id": "53wQ49FTY_sh"
      },
      "execution_count": null,
      "outputs": []
    },
    {
      "cell_type": "code",
      "source": [
        "gbc_tf_acc = test_accuracy\n",
        "gbc_tf_f1 = f1_accuracy\n",
        "gbc_tf_f1m = f1_accuracym\n",
        "gbc_tf_f1w = f1_accuracyw"
      ],
      "metadata": {
        "id": "7mVI9q8qZB1h"
      },
      "execution_count": null,
      "outputs": []
    },
    {
      "cell_type": "markdown",
      "source": [
        "Results"
      ],
      "metadata": {
        "id": "mxfSTg0TN0yV"
      }
    },
    {
      "cell_type": "code",
      "source": [
        "result2 = pd.DataFrame({'Model':['NB_CV', 'NB_TF', 'GBC_CV', 'GBC_TF'],\n",
        "             'Accuracy':[nb_cv_acc, nb_tf_acc, gbc_cv_acc, gbc_tf_acc],\n",
        "             'F1_Macro':[nb_cv_f1, nb_tf_f1, gbc_cv_f1, gbc_tf_f1],\n",
        "             'F1_Micro':[nb_cv_f1m, nb_tf_f1m, gbc_cv_f1m, gbc_tf_f1m],\n",
        "             'F1_Weighted':[nb_cv_f1w, nb_tf_f1w, gbc_cv_f1w, gbc_tf_f1w]})\n",
        "result2 = result2.round(3)\n",
        "result2"
      ],
      "metadata": {
        "id": "Hb2GNrAoNyzf"
      },
      "execution_count": null,
      "outputs": []
    }
  ]
}