{
  "nbformat": 4,
  "nbformat_minor": 0,
  "metadata": {
    "colab": {
      "name": "Naive_Bayes.ipynb",
      "provenance": [],
      "machine_shape": "hm"
    },
    "kernelspec": {
      "name": "python3",
      "display_name": "Python 3"
    },
    "language_info": {
      "name": "python"
    },
    "gpuClass": "standard"
  },
  "cells": [
    {
      "cell_type": "code",
      "execution_count": 1,
      "metadata": {
        "id": "O15VoueZSi0u"
      },
      "outputs": [],
      "source": [
        "import numpy as np\n",
        "import pandas as pd\n",
        "import matplotlib.pyplot as plt"
      ]
    },
    {
      "cell_type": "code",
      "source": [
        "\n",
        "import spacy\n",
        "nlp = spacy.load('en_core_web_sm')"
      ],
      "metadata": {
        "id": "3y-DzbG7Sj5O"
      },
      "execution_count": 2,
      "outputs": []
    },
    {
      "cell_type": "code",
      "source": [
        "from google.colab import drive\n",
        "drive.mount('/content/gdrive')"
      ],
      "metadata": {
        "colab": {
          "base_uri": "https://localhost:8080/"
        },
        "id": "nBH623SESnV9",
        "outputId": "3f7e888e-0949-4663-fd5d-338f4b09de31"
      },
      "execution_count": 3,
      "outputs": [
        {
          "output_type": "stream",
          "name": "stdout",
          "text": [
            "Mounted at /content/gdrive\n"
          ]
        }
      ]
    },
    {
      "cell_type": "code",
      "source": [
        "data =pd.read_csv(\"/content/gdrive/MyDrive/Google Colab/new_data_analyzed.csv\", on_bad_lines='skip')"
      ],
      "metadata": {
        "id": "uVA2_MhMSq-J"
      },
      "execution_count": 4,
      "outputs": []
    },
    {
      "cell_type": "code",
      "source": [
        "documents = data['text']\n",
        "documents.shape"
      ],
      "metadata": {
        "colab": {
          "base_uri": "https://localhost:8080/"
        },
        "id": "7cD4IZy-SyYv",
        "outputId": "ad15994d-9ee0-4209-a309-fd9a44144f7a"
      },
      "execution_count": 5,
      "outputs": [
        {
          "output_type": "execute_result",
          "data": {
            "text/plain": [
              "(99999,)"
            ]
          },
          "metadata": {},
          "execution_count": 5
        }
      ]
    },
    {
      "cell_type": "code",
      "source": [
        "target = data['stars']\n",
        "data['stars'].value_counts()"
      ],
      "metadata": {
        "colab": {
          "base_uri": "https://localhost:8080/"
        },
        "id": "FD2YMlWrS36W",
        "outputId": "6ec97bed-2379-460e-8eb0-d3022c87fcc9"
      },
      "execution_count": 6,
      "outputs": [
        {
          "output_type": "execute_result",
          "data": {
            "text/plain": [
              "5    44391\n",
              "4    25337\n",
              "3    11362\n",
              "1    10921\n",
              "2     7988\n",
              "Name: stars, dtype: int64"
            ]
          },
          "metadata": {},
          "execution_count": 6
        }
      ]
    },
    {
      "cell_type": "code",
      "source": [
        "from sklearn.model_selection import train_test_split\n",
        "documents_train, documents_test, target_train, target_test = \\\n",
        "train_test_split(documents, target, random_state = 1, test_size=0.3)"
      ],
      "metadata": {
        "id": "I4bcpZuBS9Jr"
      },
      "execution_count": 7,
      "outputs": []
    },
    {
      "cell_type": "code",
      "source": [
        "documents_train.iloc[1]"
      ],
      "metadata": {
        "colab": {
          "base_uri": "https://localhost:8080/",
          "height": 54
        },
        "id": "S3yO6uP4TEBr",
        "outputId": "f19a3188-fc8c-4fa8-c066-79dd899c8957"
      },
      "execution_count": 8,
      "outputs": [
        {
          "output_type": "execute_result",
          "data": {
            "text/plain": [
              "\"My first time to eat here and would think twice if i'll ever wanted to do it again. Waited for a house salad for 30 minutes and our meal for another 30 minutes which i think is totally unacceptable to wait for you food for an 1 hour.\""
            ],
            "application/vnd.google.colaboratory.intrinsic+json": {
              "type": "string"
            }
          },
          "metadata": {},
          "execution_count": 8
        }
      ]
    },
    {
      "cell_type": "code",
      "source": [
        "from sklearn.feature_extraction.text import TfidfVectorizer\n",
        "vectorizer = TfidfVectorizer(analyzer = 'word', stop_words = 'english', \n",
        "                             lowercase = True, max_features = 5000\n",
        "                            )\n",
        "# Train the model with my training data\n",
        "documents_train_vec = vectorizer.fit_transform(documents_train).toarray()\n",
        "# Get the vocab of your tfidf\n",
        "words = vectorizer.get_feature_names()\n",
        "# Use the trained model to transform your test data\n",
        "documents_test_vec = vectorizer.transform(documents_test).toarray()"
      ],
      "metadata": {
        "colab": {
          "base_uri": "https://localhost:8080/"
        },
        "id": "yL-QJusXTTtA",
        "outputId": "f684dbda-7919-42ac-d7ec-b18b98eb4f55"
      },
      "execution_count": 9,
      "outputs": [
        {
          "output_type": "stream",
          "name": "stderr",
          "text": [
            "/usr/local/lib/python3.7/dist-packages/sklearn/utils/deprecation.py:87: FutureWarning: Function get_feature_names is deprecated; get_feature_names is deprecated in 1.0 and will be removed in 1.2. Please use get_feature_names_out instead.\n",
            "  warnings.warn(msg, category=FutureWarning)\n"
          ]
        }
      ]
    },
    {
      "cell_type": "code",
      "source": [
        "def get_top_values(lst, n, labels):\n",
        "    #Given a list of values, find the indices with the highest n values.\n",
        "    #Return the labels for each of these indices.\n",
        "    return [labels[i] for i in np.argsort(lst)[::-1][:n]]  \n",
        "\n",
        "def get_bottom_values(lst, n, labels):\n",
        "    #Given a list of values, find the indices with the lowest n values.\n",
        "    #Return the labels for each of these indices.\n",
        "    return [labels[i] for i in np.argsort(lst)[:n]] "
      ],
      "metadata": {
        "id": "duk1p4TvTWuG"
      },
      "execution_count": 10,
      "outputs": []
    },
    {
      "cell_type": "code",
      "source": [
        "from sklearn.metrics.pairwise import cosine_similarity\n",
        "# Draw an arbitrary review from test (unseen in training) documents\n",
        "arbitrary_review = np.random.choice(documents_test, 1)\n",
        "arbitrary_review[0]"
      ],
      "metadata": {
        "colab": {
          "base_uri": "https://localhost:8080/",
          "height": 91
        },
        "id": "jbaCb4r2Tc4v",
        "outputId": "99a171bb-0140-4c26-b470-65d7cbf4039c"
      },
      "execution_count": 11,
      "outputs": [
        {
          "output_type": "execute_result",
          "data": {
            "text/plain": [
              "'I called the Drain Team on a Monday morning due to a stopped up sink pipe beyond the J turn.  They picked up the phone on the first try (what are you serious?  Yes this is an actual operation).  The operator apologized that she could not dispatch someone within the hour because of their morning workload (I had already told her this was not urgent).  Dan, the man, showed up in 2 hours.  He delivered a fair estimate, completed the work (it took longer than estimated and I WAS NOT CHARGED), suggested additional work for the future, and completely cleaned up any mess.\\\\n\\\\nI just moved to St Petersburg and am quickly discovering how many really sucky house vendors are floating around.  In a sea of suckitude, the Drain Team was a breath of fresh air.'"
            ],
            "application/vnd.google.colaboratory.intrinsic+json": {
              "type": "string"
            }
          },
          "metadata": {},
          "execution_count": 11
        }
      ]
    },
    {
      "cell_type": "code",
      "source": [
        "# Transform the drawn review(s) to vector(s)\n",
        "arbitrary_review_vec = vectorizer.transform([arbitrary_review[0]]).toarray()\n",
        "# Calculate the similarity score(s) between vector(s) and training vectors\n",
        "similarity_score = cosine_similarity(arbitrary_review_vec, documents_train_vec)\n",
        "\n",
        "# Let me find top 5 similar reviews\n",
        "n = 5\n",
        "similar_reviews = get_top_values(similarity_score[0], n, list(documents_train))\n",
        "\n",
        "print('My search query: \\n%s\\n' % (arbitrary_review[0]))\n",
        "print('Top %s similar reviews:' % n)\n",
        "for i in range(n):\n",
        "    print('No. %d review is %s.\\n' % (i+1, similar_reviews[i]))"
      ],
      "metadata": {
        "colab": {
          "base_uri": "https://localhost:8080/"
        },
        "id": "0I0HtqfeTe0d",
        "outputId": "e9211da0-beff-45b5-e74c-b6dca35902ee"
      },
      "execution_count": 12,
      "outputs": [
        {
          "output_type": "stream",
          "name": "stdout",
          "text": [
            "My search query: \n",
            "I called the Drain Team on a Monday morning due to a stopped up sink pipe beyond the J turn.  They picked up the phone on the first try (what are you serious?  Yes this is an actual operation).  The operator apologized that she could not dispatch someone within the hour because of their morning workload (I had already told her this was not urgent).  Dan, the man, showed up in 2 hours.  He delivered a fair estimate, completed the work (it took longer than estimated and I WAS NOT CHARGED), suggested additional work for the future, and completely cleaned up any mess.\\n\\nI just moved to St Petersburg and am quickly discovering how many really sucky house vendors are floating around.  In a sea of suckitude, the Drain Team was a breath of fresh air.\n",
            "\n",
            "Top 5 similar reviews:\n",
            "No. 1 review is Completed ahead of schedule (said it would take 3.5 hours, but took just 2.5) and done well - the house was cleaned better than the team at CheckMaid. I'm very happy and think I'll now be signing up for the monthly option, at the least..\n",
            "\n",
            "No. 2 review is Great company. The team who moved us was really professional and efficient. They wrapped all the furniture and moved everything with care. Highly recommend. \\n\\nWe had a 3 bedroom house which required a 3 man team and they moved us in about 5 hours..\n",
            "\n",
            "No. 3 review is Found Zimco Electric on yelp and decided to give them a try.  Left a phone message which was returned promptly. Craig came out and gave me an estimate of cost and when they could do the work.  Craig and Kyle father son team showed up promptly and went to work.  Both were courteous and professional.  Made suggestions for future upgrades and went about there work efficiently.   Very satisfied with the work they performed. Craig and Kyle were both helpful and friendly.  It is my pleasure to give them a good review.\n",
            "\n",
            "No. 4 review is So I have to say top notch is an understatement when it comes to Kyle and his dad. I called a few weeks ago to get an estimate and was told they were very busy but they'd gladly get to me if it wasn't an inconvenience to wait. That was the 1st sign that this would be a great experience and it really was. (Now I have to say the one and only non 5star review that I read here is in my opinion form a whiner based on all his other reviews of other business') again MY opinion. So Kyle came out and gave an estimate then even came out a second time (I wasn't available for the 1st estimate) and he even went out of his way to come by  before I went to work. Now that is customer service. So fast forward to the work beginning and everything was gone over again to be sure the scope of work was clear. The job was done professionally, clean and efficiently. At no time did I feel pressured to do any additional work (I had in the past by larger companies). During the work I even added a few things and they just took care of it. Once everything was completed (again I was at work) Kyle even followed up to be sure I was happy. Who does that anymore!!?? Well I can personally HIGHLY RECOMMEND Zimco Electric..\n",
            "\n",
            "No. 5 review is I called them this morning to send an arrangement to cheer up my mom and they were great! The man on the phone took my order and was very professional and friendly. He gave me an estimate that it would be delivered within 2-3 hours, and under such short notice that was perfect. The arrangement was delivered to my mom on time and looks great..\n",
            "\n"
          ]
        }
      ]
    },
    {
      "cell_type": "markdown",
      "source": [
        "Build model to predict rate based on reviews"
      ],
      "metadata": {
        "id": "lR-JmvRaT-gK"
      }
    },
    {
      "cell_type": "markdown",
      "source": [
        "1. Naive-Bayes Classifier"
      ],
      "metadata": {
        "id": "bP5szAgpT70S"
      }
    },
    {
      "cell_type": "code",
      "source": [
        "# Build a Naive-Bayes Classifier\n",
        "from sklearn.naive_bayes import MultinomialNB\n",
        "clf_NB = MultinomialNB()\n",
        "clf_NB.fit(documents_train_vec, target_train)"
      ],
      "metadata": {
        "colab": {
          "base_uri": "https://localhost:8080/"
        },
        "id": "V5ABpYbSTiZs",
        "outputId": "7cb9a5aa-6994-4ea0-a151-464b8e9a3e9b"
      },
      "execution_count": 13,
      "outputs": [
        {
          "output_type": "execute_result",
          "data": {
            "text/plain": [
              "MultinomialNB()"
            ]
          },
          "metadata": {},
          "execution_count": 13
        }
      ]
    },
    {
      "cell_type": "code",
      "source": [
        "print('The accuracy score for train data set is %f, for test data set is: %f' % \\\n",
        "     (clf_NB.score(documents_train_vec, target_train), clf_NB.score(documents_test_vec, target_test)))"
      ],
      "metadata": {
        "colab": {
          "base_uri": "https://localhost:8080/"
        },
        "id": "HzpFlQT8UH0D",
        "outputId": "5d22804e-ef4b-4d48-ac6b-f80de0402c77"
      },
      "execution_count": 14,
      "outputs": [
        {
          "output_type": "stream",
          "name": "stdout",
          "text": [
            "The accuracy score for train data set is 0.601523, for test data set is: 0.577733\n"
          ]
        }
      ]
    },
    {
      "cell_type": "code",
      "source": [
        ""
      ],
      "metadata": {
        "id": "keuzQzMHJQ26"
      },
      "execution_count": null,
      "outputs": []
    }
  ]
}