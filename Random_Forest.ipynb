{
  "nbformat": 4,
  "nbformat_minor": 0,
  "metadata": {
    "colab": {
      "name": "Random_Forest.ipynb",
      "provenance": []
    },
    "kernelspec": {
      "name": "python3",
      "display_name": "Python 3"
    },
    "language_info": {
      "name": "python"
    }
  },
  "cells": [
    {
      "cell_type": "code",
      "execution_count": 1,
      "metadata": {
        "id": "Vf2DJ-ntZGVG"
      },
      "outputs": [],
      "source": [
        "import pandas as pd\n",
        "import numpy as np"
      ]
    },
    {
      "cell_type": "code",
      "source": [
        "from google.colab import drive\n",
        "drive.mount('/content/gdrive')"
      ],
      "metadata": {
        "colab": {
          "base_uri": "https://localhost:8080/"
        },
        "id": "sIImNk5WZMwK",
        "outputId": "ae343949-9b2b-4cff-dc32-46286859f778"
      },
      "execution_count": 2,
      "outputs": [
        {
          "output_type": "stream",
          "name": "stdout",
          "text": [
            "Mounted at /content/gdrive\n"
          ]
        }
      ]
    },
    {
      "cell_type": "code",
      "source": [
        "data =pd.read_csv(\"/content/gdrive/MyDrive/Google colab/new_data_analyzed.csv\", on_bad_lines='skip')"
      ],
      "metadata": {
        "id": "eXwVdzR6ZS9G"
      },
      "execution_count": 4,
      "outputs": []
    },
    {
      "cell_type": "code",
      "source": [
        "documents = data['text']\n",
        "documents.shape"
      ],
      "metadata": {
        "colab": {
          "base_uri": "https://localhost:8080/"
        },
        "id": "TkHzSVF-ZZ_Y",
        "outputId": "9881280a-07f1-4543-8738-b17bbb34bd0b"
      },
      "execution_count": 6,
      "outputs": [
        {
          "output_type": "execute_result",
          "data": {
            "text/plain": [
              "(99999,)"
            ]
          },
          "metadata": {},
          "execution_count": 6
        }
      ]
    },
    {
      "cell_type": "code",
      "source": [
        "target = data['stars']\n",
        "data['stars'].value_counts()"
      ],
      "metadata": {
        "colab": {
          "base_uri": "https://localhost:8080/"
        },
        "id": "LEOXIDqQZgEr",
        "outputId": "54d00b04-cd56-4d77-ebed-75976e928c20"
      },
      "execution_count": 8,
      "outputs": [
        {
          "output_type": "execute_result",
          "data": {
            "text/plain": [
              "5    44391\n",
              "4    25337\n",
              "3    11362\n",
              "1    10921\n",
              "2     7988\n",
              "Name: stars, dtype: int64"
            ]
          },
          "metadata": {},
          "execution_count": 8
        }
      ]
    },
    {
      "cell_type": "code",
      "source": [
        "from sklearn.model_selection import train_test_split\n",
        "documents_train, documents_test, target_train, target_test = \\\n",
        "train_test_split(documents, target, random_state = 1, test_size=0.3)"
      ],
      "metadata": {
        "id": "JOAMz3EWZjm0"
      },
      "execution_count": 9,
      "outputs": []
    },
    {
      "cell_type": "code",
      "source": [
        "documents_train.iloc[1]"
      ],
      "metadata": {
        "colab": {
          "base_uri": "https://localhost:8080/",
          "height": 54
        },
        "id": "vR6XrJieZpYG",
        "outputId": "36b97038-93d0-4393-a0dc-d3f5e1f7c392"
      },
      "execution_count": 10,
      "outputs": [
        {
          "output_type": "execute_result",
          "data": {
            "text/plain": [
              "\"My first time to eat here and would think twice if i'll ever wanted to do it again. Waited for a house salad for 30 minutes and our meal for another 30 minutes which i think is totally unacceptable to wait for you food for an 1 hour.\""
            ],
            "application/vnd.google.colaboratory.intrinsic+json": {
              "type": "string"
            }
          },
          "metadata": {},
          "execution_count": 10
        }
      ]
    },
    {
      "cell_type": "code",
      "source": [
        "from sklearn.feature_extraction.text import TfidfVectorizer\n",
        "vectorizer = TfidfVectorizer(analyzer = 'word', stop_words = 'english', \n",
        "                             lowercase = True, max_features = 5000\n",
        "                            )\n",
        "# Train the model with my training data\n",
        "documents_train_vec = vectorizer.fit_transform(documents_train).toarray()\n",
        "# Get the vocab of your tfidf\n",
        "words = vectorizer.get_feature_names()\n",
        "# Use the trained model to transform your test data\n",
        "documents_test_vec = vectorizer.transform(documents_test).toarray()"
      ],
      "metadata": {
        "colab": {
          "base_uri": "https://localhost:8080/"
        },
        "id": "2CHdQiKCZrqG",
        "outputId": "5503c6b2-f4e6-4a07-9e73-2f679fa727f0"
      },
      "execution_count": 11,
      "outputs": [
        {
          "output_type": "stream",
          "name": "stderr",
          "text": [
            "/usr/local/lib/python3.7/dist-packages/sklearn/utils/deprecation.py:87: FutureWarning: Function get_feature_names is deprecated; get_feature_names is deprecated in 1.0 and will be removed in 1.2. Please use get_feature_names_out instead.\n",
            "  warnings.warn(msg, category=FutureWarning)\n"
          ]
        }
      ]
    },
    {
      "cell_type": "code",
      "source": [
        "def get_top_values(lst, n, labels):\n",
        "    #Given a list of values, find the indices with the highest n values.\n",
        "    #Return the labels for each of these indices.\n",
        "    return [labels[i] for i in np.argsort(lst)[::-1][:n]]  \n",
        "\n",
        "def get_bottom_values(lst, n, labels):\n",
        "    #Given a list of values, find the indices with the lowest n values.\n",
        "    #Return the labels for each of these indices.\n",
        "    return [labels[i] for i in np.argsort(lst)[:n]] "
      ],
      "metadata": {
        "id": "QT2kN2zBZuEN"
      },
      "execution_count": 12,
      "outputs": []
    },
    {
      "cell_type": "code",
      "source": [
        "from sklearn.metrics.pairwise import cosine_similarity\n",
        "# Draw an arbitrary review from test (unseen in training) documents\n",
        "arbitrary_review = np.random.choice(documents_test, 1)\n",
        "arbitrary_review[0]"
      ],
      "metadata": {
        "colab": {
          "base_uri": "https://localhost:8080/",
          "height": 36
        },
        "id": "3VGuR-ctZy4t",
        "outputId": "7c325056-2786-42cd-cc38-298efbbee227"
      },
      "execution_count": 13,
      "outputs": [
        {
          "output_type": "execute_result",
          "data": {
            "text/plain": [
              "'Great fresh oysters! Ordered a half dozen and sat down enjoy them and people watch. Only thing that could have made them a bit better would to be a little more chilled. I love my oysters cold!'"
            ],
            "application/vnd.google.colaboratory.intrinsic+json": {
              "type": "string"
            }
          },
          "metadata": {},
          "execution_count": 13
        }
      ]
    },
    {
      "cell_type": "code",
      "source": [
        "# Transform the drawn review(s) to vector(s)\n",
        "arbitrary_review_vec = vectorizer.transform([arbitrary_review[0]]).toarray()\n",
        "# Calculate the similarity score(s) between vector(s) and training vectors\n",
        "similarity_score = cosine_similarity(arbitrary_review_vec, documents_train_vec)\n",
        "\n",
        "# Let me find top 5 similar reviews\n",
        "n = 5\n",
        "similar_reviews = get_top_values(similarity_score[0], n, list(documents_train))\n",
        "\n",
        "print('My search query: \\n%s\\n' % (arbitrary_review[0]))\n",
        "print('Top %s similar reviews:' % n)\n",
        "for i in range(n):\n",
        "    print('No. %d review is %s.\\n' % (i+1, similar_reviews[i]))"
      ],
      "metadata": {
        "colab": {
          "base_uri": "https://localhost:8080/"
        },
        "id": "1l8VeZkIZ01D",
        "outputId": "77d32d59-4b20-435d-af16-2d3ab1abb087"
      },
      "execution_count": 14,
      "outputs": [
        {
          "output_type": "stream",
          "name": "stdout",
          "text": [
            "My search query: \n",
            "Great fresh oysters! Ordered a half dozen and sat down enjoy them and people watch. Only thing that could have made them a bit better would to be a little more chilled. I love my oysters cold!\n",
            "\n",
            "Top 5 similar reviews:\n",
            "No. 1 review is Captain Just's is located directly across the street from Yuengling Brewery and with this place, you don't want to judge a book by it's cover. Make sure you check in on Foursquare so you can receive a free draft beer (I got a Yuengling of course). They have a daily happy hour from 11:00-8:00 and you can score draft beer for only $1.25. My two yuenglings cost less than Gabe's Coke. I love when that happens!\\n\\nCheck out the Oyster Menu! First the prices are amazing, only $8 for a dozen of classic oysters. Second, they have the largest selection of specialty Oysters I have ever seen. Cheeseburger Oysters? Philly Oysters? Dessert Oysters!?!? I had all intentions of ordering the Apple Crisp Oyster - I just couldn't bring myself to do so once I got there. I chickened  out.\\n\\nI started off with a dozen of the classic, lightly steamed. They were very good. I then went for a traditional specialty oyster. This girl couldn't cheeseburger oysters. I ordered the Oysters Rock - also known as Oysters Rockefeller. Half a dozen only sent me back $7. Amazing!\\n\\nWe also trieed Chicago Baked Oysters, which were Garlic Butter & Parmesan. Sounded greatly like Acme Oyster House charbroiled oysters. Half a dozen for only $6. \\n\\nThe oysters were amazing, the prices were very good. If you were looking for something other than oysters, they have a pretty decent menu with options for everyone. It was definitely worth the trip to that side of Tampa. I still can't get over the Apple Crisp Oysters and would love to know if anyone is daring enough to try them..\n",
            "\n",
            "No. 2 review is Came from Houston for a little trip with friends and was raving oysters. One of the mates had been here before so we checked it out. Best oysters I have ever tasted. Not only that but their cocktail sauce was different as well and was tingly sweet which I love. The oysters were huge and shucked perfectly. We also got a side of gator which was good too but, couldn't compare to the oysters on a half shell. The only thing that prevented me from giving it 5 stars is because if there are people who ordered before you for the oysters then you're up for a wait because it's shucked to order. But don't let that deter you it was delicious. 10\\/10 would come again..\n",
            "\n",
            "No. 3 review is This place has been on my list of places to eat for a while, so clearly it was the first place that I had to eat at on my trip to NOLA. I wasn't planning on having a large meal here, just a few oysters, and then on to the next stop. I ended up ordering half a dozen raw oysters, half a dozen chargrilled oysters, and an oyster shooter. The shooter tasted like most shooters that I've had, but I don't really expect much from this. The oysters were GREAT though. I could not believe how big these oysters were. If you are a fan of oysters, you have got to try these! I convinced my mom to try the chargrilled oysters (she does NOT like oysters), and she actually enjoyed them. If you bring someone who is not an oyster fan here, make sure to get the chargrilled oysters.\\n \\nWe arrived around 12:15pm on a Thursday afternoon, and there was already a small line outside. The restaurant was getting ready to close down from 12:30 PM until 6:30pm for a private event, but they continued to seat people right up until 12:30pm. I couldn't believe how many people walked right past the line and right into the restaurant though. Make sure to check out the line outside of the door before you try walking in!\\n \\nWe sat at a table, as it was the first thing available and we wanted to make sure that we were able to get a seat before they closed. Even though they were closing, they never made us feel rushed, and let us stay until we were finished. I would definitely go back here again..\n",
            "\n",
            "No. 4 review is We came for craft frozen daiquiris and oysters and were not disappointed! Happy hour is 4-7 daily with $2 off daiquiris and $9\\/dozen raw oysters (they also had wine specials and a cocktail of the day). \\n\\nFor drinks, we got a frozen Pimm's cup and a Singapore Sling, which tasted pretty strong and served in a classy styrofoam cup for our takeaway pleasure. \\n\\nWe also ordered a half dozen chargrilled oysters because my girlfriend wasn't a fan of the raw oysters we've had in the past in NYC. The cooked oysters were solid, but I really thought the raw oysters were the star of the show. They were fresh and HUGE and surprisingly did not have that strong of a brine taste (something that seemed to be characteristic of oysters from the East coast). \\n\\nMy only complaint is that there was grit and sand in all of the oysters. That didn't bother me too much, but just be careful on chomping down immediately after you slurp because you might bite into some hard pieces. \\n\\nMy girlfriend ended up eating half of the raw oysters, which was a huge step forward for someone who had previously hated raw oysters. That said, she still preferred the grilled, so depending on your preference, you can't go wrong with both!.\n",
            "\n",
            "No. 5 review is Best oysters hands down!!! Got a dozen of  P&J oysters and inhaled them in 10 sec flat! Bisque is amazeballs too!!.\n",
            "\n"
          ]
        }
      ]
    },
    {
      "cell_type": "code",
      "source": [
        "# Build a Random Forest Classifier\n",
        "from sklearn.ensemble import RandomForestClassifier\n",
        "clf_RF = RandomForestClassifier(n_estimators=100, max_depth = 25, min_samples_leaf= 5, \n",
        "                             min_samples_split=5, random_state = 1, n_jobs = -1, verbose = 1)\n",
        "clf_RF.fit(documents_train_vec, target_train)"
      ],
      "metadata": {
        "colab": {
          "base_uri": "https://localhost:8080/"
        },
        "id": "jHEqgt1OZ36M",
        "outputId": "098cc114-d81b-414f-b790-a3b819c0b12c"
      },
      "execution_count": 15,
      "outputs": [
        {
          "output_type": "stream",
          "name": "stderr",
          "text": [
            "[Parallel(n_jobs=-1)]: Using backend ThreadingBackend with 2 concurrent workers.\n",
            "[Parallel(n_jobs=-1)]: Done  46 tasks      | elapsed:  1.0min\n",
            "[Parallel(n_jobs=-1)]: Done 100 out of 100 | elapsed:  2.2min finished\n"
          ]
        },
        {
          "output_type": "execute_result",
          "data": {
            "text/plain": [
              "RandomForestClassifier(max_depth=25, min_samples_leaf=5, min_samples_split=5,\n",
              "                       n_jobs=-1, random_state=1, verbose=1)"
            ]
          },
          "metadata": {},
          "execution_count": 15
        }
      ]
    },
    {
      "cell_type": "code",
      "source": [
        "print('The accuracy score for train data set is %f, for test data set is: %f' % \\\n",
        "     (clf_RF.score(documents_train_vec, target_train), clf_RF.score(documents_test_vec, target_test)))"
      ],
      "metadata": {
        "colab": {
          "base_uri": "https://localhost:8080/"
        },
        "id": "6cdQ5CNrZ7Aw",
        "outputId": "9baf701e-d44a-47cd-b507-4e316ae5dca2"
      },
      "execution_count": 16,
      "outputs": [
        {
          "output_type": "stream",
          "name": "stderr",
          "text": [
            "[Parallel(n_jobs=2)]: Using backend ThreadingBackend with 2 concurrent workers.\n",
            "[Parallel(n_jobs=2)]: Done  46 tasks      | elapsed:    2.6s\n",
            "[Parallel(n_jobs=2)]: Done 100 out of 100 | elapsed:    6.0s finished\n",
            "[Parallel(n_jobs=2)]: Using backend ThreadingBackend with 2 concurrent workers.\n",
            "[Parallel(n_jobs=2)]: Done  46 tasks      | elapsed:    1.0s\n"
          ]
        },
        {
          "output_type": "stream",
          "name": "stdout",
          "text": [
            "The accuracy score for train data set is 0.539151, for test data set is: 0.502533\n"
          ]
        },
        {
          "output_type": "stream",
          "name": "stderr",
          "text": [
            "[Parallel(n_jobs=2)]: Done 100 out of 100 | elapsed:    1.9s finished\n"
          ]
        }
      ]
    },
    {
      "cell_type": "code",
      "source": [
        "n = 20\n",
        "print ('Top 20 words by ranking are %s.' % (\", \".join(i for i in get_top_values(clf_RF.feature_importances_, n, words))))"
      ],
      "metadata": {
        "colab": {
          "base_uri": "https://localhost:8080/"
        },
        "id": "iIQdSGDlbnnL",
        "outputId": "e0d940b2-f532-4957-ef54-31d8effef96b"
      },
      "execution_count": 17,
      "outputs": [
        {
          "output_type": "stream",
          "name": "stdout",
          "text": [
            "Top 20 words by ranking are amazing, best, great, good, worst, ok, rude, pretty, delicious, told, highly, terrible, love, bit, decent, recommend, minutes, asked, horrible, little.\n"
          ]
        }
      ]
    },
    {
      "cell_type": "code",
      "source": [
        ""
      ],
      "metadata": {
        "id": "qo3P9tRRb4Te"
      },
      "execution_count": null,
      "outputs": []
    }
  ]
}